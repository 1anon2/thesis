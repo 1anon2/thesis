{
 "metadata": {
  "kernelspec": {
   "language": "python",
   "display_name": "Python 3",
   "name": "python3"
  },
  "language_info": {
   "name": "python",
   "version": "3.7.12",
   "mimetype": "text/x-python",
   "codemirror_mode": {
    "name": "ipython",
    "version": 3
   },
   "pygments_lexer": "ipython3",
   "nbconvert_exporter": "python",
   "file_extension": ".py"
  },
  "kaggle": {
   "accelerator": "gpu",
   "dataSources": [
    {
     "sourceId": 3870246,
     "sourceType": "datasetVersion",
     "datasetId": 2300513
    },
    {
     "sourceId": 4024926,
     "sourceType": "datasetVersion",
     "datasetId": 2385077
    },
    {
     "sourceId": 4028465,
     "sourceType": "datasetVersion",
     "datasetId": 2387045
    },
    {
     "sourceId": 4033663,
     "sourceType": "datasetVersion",
     "datasetId": 2389900
    },
    {
     "sourceId": 4078949,
     "sourceType": "datasetVersion",
     "datasetId": 2413411
    }
   ],
   "dockerImageVersionId": 30213,
   "isInternetEnabled": false,
   "language": "python",
   "sourceType": "notebook",
   "isGpuEnabled": true
  }
 },
 "nbformat_minor": 4,
 "nbformat": 4,
 "cells": [
  {
   "cell_type": "markdown",
   "source": [
    "### Install and prep CLIP lib"
   ],
   "metadata": {}
  },
  {
   "cell_type": "markdown",
   "source": [
    "Interacting with CLIP nb: https://github.com/openai/CLIP/blob/main/notebooks/Interacting_with_CLIP.ipynb"
   ],
   "metadata": {}
  },
  {
   "cell_type": "code",
   "source": [
    "!pip install ftfy regex tqdm\n",
    "!pip install git+https://github.com/openai/CLIP.git"
   ],
   "metadata": {
    "execution": {
     "iopub.status.busy": "2022-08-27T13:05:31.689542Z",
     "iopub.execute_input": "2022-08-27T13:05:31.690113Z",
     "iopub.status.idle": "2022-08-27T13:05:58.381469Z",
     "shell.execute_reply.started": "2022-08-27T13:05:31.690038Z",
     "shell.execute_reply": "2022-08-27T13:05:58.380245Z"
    },
    "trusted": true
   },
   "execution_count": null,
   "outputs": []
  },
  {
   "cell_type": "code",
   "source": [
    "import numpy as np\n",
    "import torch\n",
    "from pkg_resources import packaging\n",
    "\n",
    "print(\"Torch version:\", torch.__version__)"
   ],
   "metadata": {
    "execution": {
     "iopub.status.busy": "2022-08-27T13:12:31.844536Z",
     "iopub.execute_input": "2022-08-27T13:12:31.845315Z",
     "iopub.status.idle": "2022-08-27T13:12:33.652006Z",
     "shell.execute_reply.started": "2022-08-27T13:12:31.845274Z",
     "shell.execute_reply": "2022-08-27T13:12:33.650846Z"
    },
    "trusted": true
   },
   "execution_count": null,
   "outputs": []
  },
  {
   "cell_type": "code",
   "source": [
    "import clip\n",
    "\n",
    "clip.available_models()"
   ],
   "metadata": {
    "execution": {
     "iopub.status.busy": "2022-08-27T13:12:33.654155Z",
     "iopub.execute_input": "2022-08-27T13:12:33.655053Z",
     "iopub.status.idle": "2022-08-27T13:12:34.147767Z",
     "shell.execute_reply.started": "2022-08-27T13:12:33.655003Z",
     "shell.execute_reply": "2022-08-27T13:12:34.146574Z"
    },
    "trusted": true
   },
   "execution_count": null,
   "outputs": []
  },
  {
   "cell_type": "markdown",
   "source": [
    "### Dataset filtering"
   ],
   "metadata": {}
  },
  {
   "cell_type": "code",
   "source": [
    "import pandas as pd\n",
    "\n",
    "# for image-text embeddings, for image embeddings\n",
    "\n",
    "df_og = pd.read_pickle(\"../input/merged-df-with-gold/merged_df_with_gold_freq1.pkl\")\n",
    "# occhio con la freq=2"
   ],
   "metadata": {
    "execution": {
     "iopub.status.busy": "2022-08-27T13:12:46.221845Z",
     "iopub.execute_input": "2022-08-27T13:12:46.222280Z",
     "iopub.status.idle": "2022-08-27T13:12:46.625882Z",
     "shell.execute_reply.started": "2022-08-27T13:12:46.222243Z",
     "shell.execute_reply": "2022-08-27T13:12:46.624873Z"
    },
    "trusted": true
   },
   "execution_count": null,
   "outputs": []
  },
  {
   "cell_type": "code",
   "source": [
    "def anonymize_and_fix_amps(tweet):\n",
    "    toks = str(tweet).split()\n",
    "    for idx,t in enumerate(toks):\n",
    "        if t[0] == '@':\n",
    "            toks[idx] = '@USER'\n",
    "        if t == '&amp;':\n",
    "            toks[idx] = '&'\n",
    "    return ' '.join(toks)\n",
    "\n",
    "df_og['tweet'] = df_og['tweet'].apply(anonymize_and_fix_amps)"
   ],
   "metadata": {
    "execution": {
     "iopub.status.busy": "2022-08-27T13:12:52.987146Z",
     "iopub.execute_input": "2022-08-27T13:12:52.987541Z",
     "iopub.status.idle": "2022-08-27T13:12:53.079826Z",
     "shell.execute_reply.started": "2022-08-27T13:12:52.987506Z",
     "shell.execute_reply": "2022-08-27T13:12:53.078610Z"
    },
    "trusted": true
   },
   "execution_count": null,
   "outputs": []
  },
  {
   "cell_type": "code",
   "source": [
    "df_gold = df_og[df_og.T_Surprise.isnull() == False]"
   ],
   "metadata": {
    "execution": {
     "iopub.status.busy": "2022-08-27T13:12:54.312819Z",
     "iopub.execute_input": "2022-08-27T13:12:54.313207Z",
     "iopub.status.idle": "2022-08-27T13:12:54.326139Z",
     "shell.execute_reply.started": "2022-08-27T13:12:54.313175Z",
     "shell.execute_reply": "2022-08-27T13:12:54.325115Z"
    },
    "trusted": true
   },
   "execution_count": null,
   "outputs": []
  },
  {
   "cell_type": "code",
   "source": [
    "df_gold = df_gold[df_gold.M_gold_multi_label.str.len() != 0]"
   ],
   "metadata": {
    "execution": {
     "iopub.status.busy": "2022-08-27T12:53:51.263050Z",
     "iopub.execute_input": "2022-08-27T12:53:51.263497Z",
     "iopub.status.idle": "2022-08-27T12:53:51.276123Z",
     "shell.execute_reply.started": "2022-08-27T12:53:51.263457Z",
     "shell.execute_reply": "2022-08-27T12:53:51.274975Z"
    },
    "trusted": true
   },
   "execution_count": null,
   "outputs": []
  },
  {
   "cell_type": "code",
   "source": [
    "len(df_gold)"
   ],
   "metadata": {
    "execution": {
     "iopub.status.busy": "2022-08-26T12:21:18.036515Z",
     "iopub.execute_input": "2022-08-26T12:21:18.036887Z",
     "iopub.status.idle": "2022-08-26T12:21:18.046181Z",
     "shell.execute_reply.started": "2022-08-26T12:21:18.036855Z",
     "shell.execute_reply": "2022-08-26T12:21:18.044908Z"
    },
    "trusted": true
   },
   "execution_count": null,
   "outputs": []
  },
  {
   "cell_type": "markdown",
   "source": [
    "### Evaluate silver labels"
   ],
   "metadata": {}
  },
  {
   "cell_type": "code",
   "source": [
    "def remove_neutral_smt(labels):\n",
    "    new_l=[]\n",
    "    for e in labels:\n",
    "        if e != \"Something else\" and e != \"Neutral\":\n",
    "            new_l.append(e)\n",
    "    return new_l"
   ],
   "metadata": {
    "execution": {
     "iopub.status.busy": "2022-08-26T16:19:20.480836Z",
     "iopub.execute_input": "2022-08-26T16:19:20.481199Z",
     "iopub.status.idle": "2022-08-26T16:19:20.486812Z",
     "shell.execute_reply.started": "2022-08-26T16:19:20.481169Z",
     "shell.execute_reply": "2022-08-26T16:19:20.485592Z"
    },
    "trusted": true
   },
   "execution_count": null,
   "outputs": []
  },
  {
   "cell_type": "code",
   "source": [
    "df_gold.M_gold_multi_label, df_gold.T_gold_multi_label"
   ],
   "metadata": {
    "execution": {
     "iopub.status.busy": "2022-08-24T12:04:45.353449Z",
     "iopub.execute_input": "2022-08-24T12:04:45.353860Z",
     "iopub.status.idle": "2022-08-24T12:04:45.370577Z",
     "shell.execute_reply.started": "2022-08-24T12:04:45.353825Z",
     "shell.execute_reply": "2022-08-24T12:04:45.369030Z"
    },
    "trusted": true
   },
   "execution_count": null,
   "outputs": []
  },
  {
   "cell_type": "code",
   "source": [
    "df_gold['M_gold_multi_label'] = df_gold['M_gold_multi_label'].apply(remove_neutral_smt)"
   ],
   "metadata": {
    "execution": {
     "iopub.status.busy": "2022-08-26T16:19:29.103732Z",
     "iopub.execute_input": "2022-08-26T16:19:29.104180Z",
     "iopub.status.idle": "2022-08-26T16:19:29.117376Z",
     "shell.execute_reply.started": "2022-08-26T16:19:29.104144Z",
     "shell.execute_reply": "2022-08-26T16:19:29.116133Z"
    },
    "trusted": true
   },
   "execution_count": null,
   "outputs": []
  },
  {
   "cell_type": "code",
   "source": [
    "df_gold['T_gold_multi_label'] = df_gold['T_gold_multi_label'].apply(remove_neutral_smt)"
   ],
   "metadata": {
    "execution": {
     "iopub.status.busy": "2022-08-26T16:19:29.936128Z",
     "iopub.execute_input": "2022-08-26T16:19:29.936499Z",
     "iopub.status.idle": "2022-08-26T16:19:29.944598Z",
     "shell.execute_reply.started": "2022-08-26T16:19:29.936468Z",
     "shell.execute_reply": "2022-08-26T16:19:29.943452Z"
    },
    "trusted": true
   },
   "execution_count": null,
   "outputs": []
  },
  {
   "cell_type": "code",
   "source": [
    "df_gold.iloc[0].T_gold_multi_label, df_gold.iloc[0].multi_label"
   ],
   "metadata": {
    "execution": {
     "iopub.status.busy": "2022-08-24T09:44:39.074202Z",
     "iopub.execute_input": "2022-08-24T09:44:39.074618Z",
     "iopub.status.idle": "2022-08-24T09:44:39.083638Z",
     "shell.execute_reply.started": "2022-08-24T09:44:39.074587Z",
     "shell.execute_reply": "2022-08-24T09:44:39.082536Z"
    },
    "trusted": true
   },
   "execution_count": null,
   "outputs": []
  },
  {
   "cell_type": "code",
   "source": [
    "from sklearn.metrics import classification_report\n",
    "\n",
    "from sklearn.preprocessing import MultiLabelBinarizer\n",
    "from sklearn.metrics import f1_score\n",
    "\n",
    "\n",
    "#y_train_silvgold = merged_all_labels['M_gold_multi_label']\n",
    "\n",
    "y_1 = df_gold['M_gold_multi_label']\n",
    "y_2 = df_gold['T_gold_multi_label']\n",
    "\n",
    "\n",
    "mlb = MultiLabelBinarizer()\n",
    "#yt_silvgold = mlb.fit_transform(y_train_silvgold)\n",
    "y_1 = mlb.fit_transform(y_1)\n",
    "y_2 = mlb.fit_transform(y_2)\n",
    "labels=mlb.classes_\n",
    "\n",
    "#out_dict = classification_report(y_true=y_1, y_pred=y_2, target_names=labels,output_dict=True)\n",
    "print(classification_report(y_true=y_2, y_pred=y_1, target_names=labels))"
   ],
   "metadata": {
    "execution": {
     "iopub.status.busy": "2022-08-26T16:20:28.389667Z",
     "iopub.execute_input": "2022-08-26T16:20:28.390351Z",
     "iopub.status.idle": "2022-08-26T16:20:28.415714Z",
     "shell.execute_reply.started": "2022-08-26T16:20:28.390313Z",
     "shell.execute_reply": "2022-08-26T16:20:28.414815Z"
    },
    "trusted": true
   },
   "execution_count": null,
   "outputs": []
  },
  {
   "cell_type": "code",
   "source": [
    "print(classification_report(y_true=y_1, y_pred=y_2, target_names=labels))"
   ],
   "metadata": {
    "execution": {
     "iopub.status.busy": "2022-08-24T10:02:04.450563Z",
     "iopub.execute_input": "2022-08-24T10:02:04.451300Z",
     "iopub.status.idle": "2022-08-24T10:02:04.474704Z",
     "shell.execute_reply.started": "2022-08-24T10:02:04.451261Z",
     "shell.execute_reply": "2022-08-24T10:02:04.473203Z"
    },
    "trusted": true
   },
   "execution_count": null,
   "outputs": []
  },
  {
   "cell_type": "code",
   "source": [
    "df = df_gold.explode('path_photos')"
   ],
   "metadata": {
    "execution": {
     "iopub.status.busy": "2022-08-26T12:37:10.985083Z",
     "iopub.execute_input": "2022-08-26T12:37:10.985450Z",
     "iopub.status.idle": "2022-08-26T12:37:11.008077Z",
     "shell.execute_reply.started": "2022-08-26T12:37:10.985420Z",
     "shell.execute_reply": "2022-08-26T12:37:11.007158Z"
    },
    "trusted": true
   },
   "execution_count": null,
   "outputs": []
  },
  {
   "cell_type": "code",
   "source": [
    "len(df)"
   ],
   "metadata": {
    "execution": {
     "iopub.status.busy": "2022-08-26T08:48:33.746787Z",
     "iopub.execute_input": "2022-08-26T08:48:33.747493Z",
     "iopub.status.idle": "2022-08-26T08:48:33.755712Z",
     "shell.execute_reply.started": "2022-08-26T08:48:33.747450Z",
     "shell.execute_reply": "2022-08-26T08:48:33.754635Z"
    },
    "trusted": true
   },
   "execution_count": null,
   "outputs": []
  },
  {
   "cell_type": "code",
   "source": [
    "from sklearn.model_selection import train_test_split\n",
    "\n",
    "train, test = train_test_split(df, test_size=0.20,shuffle=True, random_state=42)"
   ],
   "metadata": {
    "execution": {
     "iopub.status.busy": "2022-08-23T14:29:30.718483Z",
     "iopub.execute_input": "2022-08-23T14:29:30.719098Z",
     "iopub.status.idle": "2022-08-23T14:29:31.245547Z",
     "shell.execute_reply.started": "2022-08-23T14:29:30.719044Z",
     "shell.execute_reply": "2022-08-23T14:29:31.244570Z"
    },
    "trusted": true
   },
   "execution_count": null,
   "outputs": []
  },
  {
   "cell_type": "code",
   "source": [
    "df_og = df_og.explode('path_photos')"
   ],
   "metadata": {
    "execution": {
     "iopub.status.busy": "2022-08-26T12:36:48.835929Z",
     "iopub.execute_input": "2022-08-26T12:36:48.836537Z",
     "iopub.status.idle": "2022-08-26T12:36:48.957376Z",
     "shell.execute_reply.started": "2022-08-26T12:36:48.836501Z",
     "shell.execute_reply": "2022-08-26T12:36:48.956352Z"
    },
    "trusted": true
   },
   "execution_count": null,
   "outputs": []
  },
  {
   "cell_type": "code",
   "source": [
    "df = df_gold"
   ],
   "metadata": {
    "execution": {
     "iopub.status.busy": "2022-08-27T13:13:01.918091Z",
     "iopub.execute_input": "2022-08-27T13:13:01.918512Z",
     "iopub.status.idle": "2022-08-27T13:13:01.923882Z",
     "shell.execute_reply.started": "2022-08-27T13:13:01.918469Z",
     "shell.execute_reply": "2022-08-27T13:13:01.922454Z"
    },
    "trusted": true
   },
   "execution_count": null,
   "outputs": []
  },
  {
   "cell_type": "code",
   "source": [
    "len(df)"
   ],
   "metadata": {
    "execution": {
     "iopub.status.busy": "2022-08-27T13:13:02.087110Z",
     "iopub.execute_input": "2022-08-27T13:13:02.087728Z",
     "iopub.status.idle": "2022-08-27T13:13:02.094944Z",
     "shell.execute_reply.started": "2022-08-27T13:13:02.087687Z",
     "shell.execute_reply": "2022-08-27T13:13:02.093911Z"
    },
    "trusted": true
   },
   "execution_count": null,
   "outputs": []
  },
  {
   "cell_type": "code",
   "source": [
    "df_notest = pd.concat([df_og,test])\n",
    "df_notest = df_notest.drop_duplicates(subset='path_photos', keep=False).reset_index(drop=True)"
   ],
   "metadata": {
    "execution": {
     "iopub.status.busy": "2022-08-19T14:24:44.117252Z",
     "iopub.execute_input": "2022-08-19T14:24:44.118238Z",
     "iopub.status.idle": "2022-08-19T14:24:44.191362Z",
     "shell.execute_reply.started": "2022-08-19T14:24:44.118194Z",
     "shell.execute_reply": "2022-08-19T14:24:44.190303Z"
    },
    "trusted": true
   },
   "execution_count": null,
   "outputs": []
  },
  {
   "cell_type": "code",
   "source": [
    "len(df_notest)"
   ],
   "metadata": {
    "execution": {
     "iopub.status.busy": "2022-08-19T14:24:45.327413Z",
     "iopub.execute_input": "2022-08-19T14:24:45.328126Z",
     "iopub.status.idle": "2022-08-19T14:24:45.334106Z",
     "shell.execute_reply.started": "2022-08-19T14:24:45.328088Z",
     "shell.execute_reply": "2022-08-19T14:24:45.333108Z"
    },
    "trusted": true
   },
   "execution_count": null,
   "outputs": []
  },
  {
   "cell_type": "code",
   "source": [
    "# maiuscola anche per le silver label, per uniformità\n",
    "\n",
    "def capitalize_emo(labels):\n",
    "    return [y.capitalize() for y in labels]\n",
    "\n",
    "df_notest['multi_label'] = df_notest['multi_label'].apply(lambda x: capitalize_emo(x))"
   ],
   "metadata": {
    "execution": {
     "iopub.status.busy": "2022-08-19T14:25:52.385765Z",
     "iopub.execute_input": "2022-08-19T14:25:52.386154Z",
     "iopub.status.idle": "2022-08-19T14:25:52.410012Z",
     "shell.execute_reply.started": "2022-08-19T14:25:52.386114Z",
     "shell.execute_reply": "2022-08-19T14:25:52.408847Z"
    },
    "trusted": true
   },
   "execution_count": null,
   "outputs": []
  },
  {
   "cell_type": "code",
   "source": [
    "# gold labels + silver labels\n",
    "\n",
    "from copy import deepcopy\n",
    "\n",
    "merged_all_labels = deepcopy(df_notest)\n",
    "for idx, row in merged_all_labels.iterrows():\n",
    "    curr = merged_all_labels.iloc[idx]\n",
    "    \n",
    "    if type(curr.T_gold_multi_label) == float or (type(curr.T_gold_multi_label) == list and len(curr.T_gold_multi_label) == 0):\n",
    "        merged_all_labels.at[idx, \"T_gold_multi_label\"] = curr.multi_label\n",
    "    if type(curr.M_gold_multi_label) == float or (type(curr.M_gold_multi_label) == list and len(curr.M_gold_multi_label) == 0):\n",
    "        merged_all_labels.at[idx, \"M_gold_multi_label\"] = curr.multi_label"
   ],
   "metadata": {
    "execution": {
     "iopub.status.busy": "2022-08-19T14:26:11.672953Z",
     "iopub.execute_input": "2022-08-19T14:26:11.673317Z",
     "iopub.status.idle": "2022-08-19T14:26:16.162517Z",
     "shell.execute_reply.started": "2022-08-19T14:26:11.673287Z",
     "shell.execute_reply": "2022-08-19T14:26:16.161537Z"
    },
    "trusted": true
   },
   "execution_count": null,
   "outputs": []
  },
  {
   "cell_type": "markdown",
   "source": [
    "### With base model"
   ],
   "metadata": {}
  },
  {
   "cell_type": "code",
   "source": [
    "import clip\n",
    "import torch\n",
    "import numpy as np \n",
    "\n",
    "device = \"cuda:0\" if torch.cuda.is_available() else \"cpu\" \n",
    "model, preprocess = clip.load(\"ViT-B/32\")\n",
    "model.cuda().eval()\n",
    "input_resolution = model.visual.input_resolution\n",
    "context_length = model.context_length\n",
    "vocab_size = model.vocab_size\n",
    "\n",
    "print(\"Model parameters:\", f\"{np.sum([int(np.prod(p.shape)) for p in model.parameters()]):,}\")\n",
    "print(\"Input resolution:\", input_resolution)\n",
    "print(\"Context length:\", context_length)\n",
    "print(\"Vocab size:\", vocab_size)"
   ],
   "metadata": {
    "execution": {
     "iopub.status.busy": "2022-08-26T08:48:56.928706Z",
     "iopub.execute_input": "2022-08-26T08:48:56.929273Z",
     "iopub.status.idle": "2022-08-26T08:48:57.079506Z",
     "shell.execute_reply.started": "2022-08-26T08:48:56.929229Z",
     "shell.execute_reply": "2022-08-26T08:48:57.077162Z"
    },
    "trusted": true
   },
   "execution_count": null,
   "outputs": []
  },
  {
   "cell_type": "code",
   "source": [
    "print(f'Cuda is available: {torch.cuda.is_available()}')\n",
    "print(f'Available devices: {torch.cuda.device_count()}')\n",
    "print(f'Device name: {torch.cuda.get_device_name()}')\n",
    "\n",
    "from torch.utils.data import DataLoader, RandomSampler, SequentialSampler, ConcatDataset\n",
    "from torch.utils.data import TensorDataset, random_split, Dataset\n",
    "from torch import nn, optim\n",
    "\n",
    "from PIL import Image\n",
    "import pandas as pd\n",
    "from pathlib import Path\n",
    "import matplotlib.pyplot as plt\n",
    "import numpy as np\n",
    "from numpy import cumsum\n",
    "from sklearn.metrics import classification_report\n",
    "from sklearn.model_selection import train_test_split\n",
    "from tqdm import tqdm\n",
    "import random\n",
    "\n",
    "seed = 0\n",
    "random.seed = seed\n",
    "np.random.seed(seed)"
   ],
   "metadata": {
    "execution": {
     "iopub.status.busy": "2022-08-27T13:13:09.140378Z",
     "iopub.execute_input": "2022-08-27T13:13:09.140907Z",
     "iopub.status.idle": "2022-08-27T13:13:09.561112Z",
     "shell.execute_reply.started": "2022-08-27T13:13:09.140868Z",
     "shell.execute_reply": "2022-08-27T13:13:09.559973Z"
    },
    "trusted": true
   },
   "execution_count": null,
   "outputs": []
  },
  {
   "cell_type": "markdown",
   "source": [
    "### Or with fine-tuned model"
   ],
   "metadata": {}
  },
  {
   "cell_type": "code",
   "source": [
    "del model"
   ],
   "metadata": {
    "execution": {
     "iopub.status.busy": "2022-08-19T11:02:09.002169Z",
     "iopub.execute_input": "2022-08-19T11:02:09.002536Z",
     "iopub.status.idle": "2022-08-19T11:02:09.008631Z",
     "shell.execute_reply.started": "2022-08-19T11:02:09.002503Z",
     "shell.execute_reply": "2022-08-19T11:02:09.006933Z"
    },
    "trusted": true
   },
   "execution_count": null,
   "outputs": []
  },
  {
   "cell_type": "code",
   "source": [
    "import clip\n",
    "\n",
    "device = \"cuda:0\" if torch.cuda.is_available() else \"cpu\" \n",
    "\n",
    "model, preprocess = clip.load(\"ViT-B/32\",device=device,jit=False) #Must set jit=False for training\n",
    "checkpoint = torch.load(\"../input/clip-ft-256-1-lr5/clip-ft-256-1-lr5.pt\")\n",
    "\n",
    "# Use these 3 lines if you use default model setting(not training setting) of the clip. For example, if you set context_length to 100 since your string is very long during training, then assign 100 to checkpoint['model_state_dict'][\"context_length\"] \n",
    "#checkpoint['model_state_dict'][\"input_resolution\"] = model.input_resolution #default is 224\n",
    "#checkpoint['model_state_dict']['context_length'] = model.context_length # default is 77\n",
    "#checkpoint['model_state_dict']['vocab_size'] = model.vocab_size \n",
    "\n",
    "model.load_state_dict(checkpoint['model_state_dict'])"
   ],
   "metadata": {
    "execution": {
     "iopub.status.busy": "2022-08-27T13:13:11.869055Z",
     "iopub.execute_input": "2022-08-27T13:13:11.869442Z",
     "iopub.status.idle": "2022-08-27T13:13:45.208379Z",
     "shell.execute_reply.started": "2022-08-27T13:13:11.869388Z",
     "shell.execute_reply": "2022-08-27T13:13:45.207447Z"
    },
    "trusted": true
   },
   "execution_count": null,
   "outputs": []
  },
  {
   "cell_type": "markdown",
   "source": [
    "-----"
   ],
   "metadata": {}
  },
  {
   "cell_type": "code",
   "source": [
    "device = \"cuda:0\" if torch.cuda.is_available() else \"cpu\" "
   ],
   "metadata": {
    "execution": {
     "iopub.status.busy": "2022-08-27T13:16:48.716092Z",
     "iopub.execute_input": "2022-08-27T13:16:48.716485Z",
     "iopub.status.idle": "2022-08-27T13:16:48.722229Z",
     "shell.execute_reply.started": "2022-08-27T13:16:48.716451Z",
     "shell.execute_reply": "2022-08-27T13:16:48.721078Z"
    },
    "trusted": true
   },
   "execution_count": null,
   "outputs": []
  },
  {
   "cell_type": "code",
   "source": [
    "import tensorflow as tf"
   ],
   "metadata": {
    "execution": {
     "iopub.status.busy": "2022-08-27T13:16:48.894762Z",
     "iopub.execute_input": "2022-08-27T13:16:48.895635Z",
     "iopub.status.idle": "2022-08-27T13:16:53.317647Z",
     "shell.execute_reply.started": "2022-08-27T13:16:48.895594Z",
     "shell.execute_reply": "2022-08-27T13:16:53.316653Z"
    },
    "trusted": true
   },
   "execution_count": null,
   "outputs": []
  },
  {
   "cell_type": "markdown",
   "source": [
    "#### Obtain and preprocess **multimodal X** values (aka **image-text embeddings**)"
   ],
   "metadata": {}
  },
  {
   "cell_type": "code",
   "source": [
    "from PIL import Image\n",
    "\n",
    "def extract_and_concatenate(text, image):\n",
    "    image = preprocess(Image.open(image)).unsqueeze(0).to(device)\n",
    "    image_features = model.encode_image(image)\n",
    "\n",
    "    text = clip.tokenize([text], truncate=True).to(device)\n",
    "    text_features = model.encode_text(text)\n",
    "\n",
    "    with torch.no_grad():\n",
    "        concat = tf.concat(values=[image_features.cpu(), text_features.cpu()], axis=1)\n",
    "    \n",
    "    return concat\n",
    "\n",
    "images = df.path_photos.values\n",
    "texts = df.tweet.values\n",
    "\n",
    "import tensorflow as tf\n",
    "\n",
    "X = []\n",
    "\n",
    "for idx,p in enumerate(images):\n",
    "    curr_img = images[idx]\n",
    "    curr_txt = texts[idx]\n",
    "    conc = extract_and_concatenate(curr_txt, curr_img)\n",
    "    X.append(conc)"
   ],
   "metadata": {
    "execution": {
     "iopub.status.busy": "2022-08-26T12:37:24.942909Z",
     "iopub.execute_input": "2022-08-26T12:37:24.943277Z",
     "iopub.status.idle": "2022-08-26T12:38:46.434996Z",
     "shell.execute_reply.started": "2022-08-26T12:37:24.943247Z",
     "shell.execute_reply": "2022-08-26T12:38:46.434014Z"
    },
    "trusted": true
   },
   "execution_count": null,
   "outputs": []
  },
  {
   "cell_type": "code",
   "source": [
    "import pickle\n",
    "\n",
    "with open('clip-ft-64-2-silvergold.pkl', 'wb') as b:\n",
    "    pickle.dump(X_train,b)"
   ],
   "metadata": {
    "execution": {
     "iopub.status.busy": "2022-08-19T14:45:26.203170Z",
     "iopub.execute_input": "2022-08-19T14:45:26.203551Z",
     "iopub.status.idle": "2022-08-19T14:45:27.313079Z",
     "shell.execute_reply.started": "2022-08-19T14:45:26.203521Z",
     "shell.execute_reply": "2022-08-19T14:45:27.311452Z"
    },
    "trusted": true
   },
   "execution_count": null,
   "outputs": []
  },
  {
   "cell_type": "code",
   "source": [
    "images_test = test.path_photos.values\n",
    "texts_test = test.tweet.values\n",
    "\n",
    "import tensorflow as tf\n",
    "\n",
    "X_test = []\n",
    "\n",
    "for idx,p in enumerate(images_test):\n",
    "    curr_img = images_test[idx]\n",
    "    curr_txt = texts_test[idx]\n",
    "    conc = extract_and_concatenate(curr_txt, curr_img)\n",
    "    X_test.append(conc)"
   ],
   "metadata": {
    "execution": {
     "iopub.status.busy": "2022-08-20T14:36:55.102995Z",
     "iopub.execute_input": "2022-08-20T14:36:55.103382Z",
     "iopub.status.idle": "2022-08-20T14:37:09.501977Z",
     "shell.execute_reply.started": "2022-08-20T14:36:55.103345Z",
     "shell.execute_reply": "2022-08-20T14:37:09.501023Z"
    },
    "trusted": true
   },
   "execution_count": null,
   "outputs": []
  },
  {
   "cell_type": "code",
   "source": [
    "images_test = test.path_photos.values\n",
    "texts_test = test.tweet.values\n",
    "\n",
    "import tensorflow as tf\n",
    "\n",
    "X_test = []\n",
    "\n",
    "for idx,p in enumerate(images_test):\n",
    "    curr_img = images_test[idx]\n",
    "    curr_txt = texts_test[idx]\n",
    "    conc = extract_and_concatenate(curr_txt, curr_img)\n",
    "    X_test.append(conc)"
   ],
   "metadata": {
    "execution": {
     "iopub.status.busy": "2022-08-19T14:49:22.999081Z",
     "iopub.execute_input": "2022-08-19T14:49:22.999961Z",
     "iopub.status.idle": "2022-08-19T14:49:38.989333Z",
     "shell.execute_reply.started": "2022-08-19T14:49:22.999915Z",
     "shell.execute_reply": "2022-08-19T14:49:38.988364Z"
    },
    "trusted": true
   },
   "execution_count": null,
   "outputs": []
  },
  {
   "cell_type": "code",
   "source": [
    "len(X_test)+len(X_train)+len(X_train_gold)\n",
    "\n",
    "# X_train sia silv che gold\n",
    "# X_train_gold solo gold\n",
    "# X_test solo gold"
   ],
   "metadata": {
    "execution": {
     "iopub.status.busy": "2022-08-20T14:37:25.942101Z",
     "iopub.execute_input": "2022-08-20T14:37:25.942471Z",
     "iopub.status.idle": "2022-08-20T14:37:25.948658Z",
     "shell.execute_reply.started": "2022-08-20T14:37:25.942440Z",
     "shell.execute_reply": "2022-08-20T14:37:25.947604Z"
    },
    "trusted": true
   },
   "execution_count": null,
   "outputs": []
  },
  {
   "cell_type": "markdown",
   "source": [
    "#### Obtain and preprocess **textual X** values (aka **text embeddings**)"
   ],
   "metadata": {}
  },
  {
   "cell_type": "code",
   "source": [
    "del texts\n",
    "del X"
   ],
   "metadata": {
    "execution": {
     "iopub.status.busy": "2022-08-26T12:30:51.977198Z",
     "iopub.execute_input": "2022-08-26T12:30:51.978354Z",
     "iopub.status.idle": "2022-08-26T12:30:51.983365Z",
     "shell.execute_reply.started": "2022-08-26T12:30:51.978312Z",
     "shell.execute_reply": "2022-08-26T12:30:51.982130Z"
    },
    "trusted": true
   },
   "execution_count": null,
   "outputs": []
  },
  {
   "cell_type": "code",
   "source": [
    "import tensorflow as tf\n",
    "\n",
    "def extract_textual(text):\n",
    "    text = clip.tokenize([text], truncate=True).to(device)\n",
    "    text_features = model.encode_text(text)\n",
    "\n",
    "    with torch.no_grad():\n",
    "        text_fts = tf.convert_to_tensor(text_features.cpu().numpy())\n",
    "    \n",
    "    return text_fts\n",
    "\n",
    "texts = df.tweet.values\n",
    "\n",
    "X = []\n",
    "\n",
    "for idx,p in enumerate(texts):\n",
    "    curr_txt = texts[idx]\n",
    "    features = extract_textual(curr_txt)\n",
    "    X.append(features)"
   ],
   "metadata": {
    "execution": {
     "iopub.status.busy": "2022-08-27T13:16:56.362364Z",
     "iopub.execute_input": "2022-08-27T13:16:56.363392Z",
     "iopub.status.idle": "2022-08-27T13:17:23.518317Z",
     "shell.execute_reply.started": "2022-08-27T13:16:56.363346Z",
     "shell.execute_reply": "2022-08-27T13:17:23.517290Z"
    },
    "trusted": true
   },
   "execution_count": null,
   "outputs": []
  },
  {
   "cell_type": "code",
   "source": [
    "texts_2 = test.tweet.values\n",
    "\n",
    "X_test = []\n",
    "\n",
    "for idx,p in enumerate(texts_2):\n",
    "    curr_txt = texts[idx]\n",
    "    features = extract_textual(curr_txt)\n",
    "    X_test.append(features)"
   ],
   "metadata": {
    "execution": {
     "iopub.status.busy": "2022-08-23T14:32:27.061985Z",
     "iopub.execute_input": "2022-08-23T14:32:27.062460Z",
     "iopub.status.idle": "2022-08-23T14:32:29.218296Z",
     "shell.execute_reply.started": "2022-08-23T14:32:27.062419Z",
     "shell.execute_reply": "2022-08-23T14:32:29.217310Z"
    },
    "trusted": true
   },
   "execution_count": null,
   "outputs": []
  },
  {
   "cell_type": "markdown",
   "source": [
    "#### Obtain and preprocess **visual X** values (aka **image embeddings**)"
   ],
   "metadata": {}
  },
  {
   "cell_type": "code",
   "source": [
    "del X"
   ],
   "metadata": {
    "execution": {
     "iopub.status.busy": "2022-08-19T09:51:21.478585Z",
     "iopub.execute_input": "2022-08-19T09:51:21.479155Z",
     "iopub.status.idle": "2022-08-19T09:51:21.487043Z",
     "shell.execute_reply.started": "2022-08-19T09:51:21.479112Z",
     "shell.execute_reply": "2022-08-19T09:51:21.486117Z"
    },
    "trusted": true
   },
   "execution_count": null,
   "outputs": []
  },
  {
   "cell_type": "code",
   "source": [
    "from PIL import Image\n",
    "\n",
    "def extract_visual(image):\n",
    "    image = preprocess(Image.open(image)).unsqueeze(0).to(device)\n",
    "    image_features = model.encode_image(image)\n",
    "\n",
    "    with torch.no_grad():\n",
    "        img_fts = tf.convert_to_tensor(image_features.cpu().numpy())\n",
    "    \n",
    "    return img_fts\n",
    "\n",
    "images = df.path_photos.values\n",
    "\n",
    "X = []\n",
    "\n",
    "for idx,image in enumerate(images):\n",
    "    features = extract_visual(image)\n",
    "    X.append(features)"
   ],
   "metadata": {
    "execution": {
     "iopub.status.busy": "2022-08-19T13:13:13.898020Z",
     "iopub.execute_input": "2022-08-19T13:13:13.900318Z",
     "iopub.status.idle": "2022-08-19T13:14:23.502373Z",
     "shell.execute_reply.started": "2022-08-19T13:13:13.900273Z",
     "shell.execute_reply": "2022-08-19T13:14:23.501272Z"
    },
    "trusted": true
   },
   "execution_count": null,
   "outputs": []
  },
  {
   "cell_type": "markdown",
   "source": [
    "-----"
   ],
   "metadata": {}
  },
  {
   "cell_type": "code",
   "source": [
    "X_train = np.squeeze(np.asarray([i.numpy() for i in X_train]))\n",
    "X_test = np.squeeze(np.asarray([i.numpy() for i in X_test]))\n",
    "X_train_gold = np.squeeze(np.asarray([i.numpy() for i in X_train_gold]))\n"
   ],
   "metadata": {
    "execution": {
     "iopub.status.busy": "2022-08-19T14:50:58.812924Z",
     "iopub.execute_input": "2022-08-19T14:50:58.813669Z",
     "iopub.status.idle": "2022-08-19T14:50:58.956270Z",
     "shell.execute_reply.started": "2022-08-19T14:50:58.813636Z",
     "shell.execute_reply": "2022-08-19T14:50:58.955071Z"
    },
    "trusted": true
   },
   "execution_count": null,
   "outputs": []
  },
  {
   "cell_type": "code",
   "source": [
    "X_train = np.squeeze(np.asarray([i.numpy() for i in X_train]))\n",
    "X_test = np.squeeze(np.asarray([i.numpy() for i in X_test]))"
   ],
   "metadata": {
    "execution": {
     "iopub.status.busy": "2022-08-23T14:32:37.192907Z",
     "iopub.execute_input": "2022-08-23T14:32:37.193522Z",
     "iopub.status.idle": "2022-08-23T14:32:37.255849Z",
     "shell.execute_reply.started": "2022-08-23T14:32:37.193483Z",
     "shell.execute_reply": "2022-08-23T14:32:37.254901Z"
    },
    "trusted": true
   },
   "execution_count": null,
   "outputs": []
  },
  {
   "cell_type": "code",
   "source": [
    "from sklearn.preprocessing import MultiLabelBinarizer\n",
    "\n",
    "#y_train_silvgold = merged_all_labels['M_gold_multi_label']\n",
    "y_train = train['M_gold_multi_label']\n",
    "y_test = test['T_gold_multi_label']\n",
    "\n",
    "\n",
    "# X_train sia silv che gold\n",
    "# X_train_gold solo gold\n",
    "# X_test solo gold\n",
    "\n",
    "mlb = MultiLabelBinarizer()\n",
    "#yt_silvgold = mlb.fit_transform(y_train_silvgold)\n",
    "yt_train = mlb.fit_transform(y_train)\n",
    "yt_test = mlb.fit_transform(y_test)"
   ],
   "metadata": {
    "execution": {
     "iopub.status.busy": "2022-08-23T14:39:11.892647Z",
     "iopub.execute_input": "2022-08-23T14:39:11.893279Z",
     "iopub.status.idle": "2022-08-23T14:39:11.903138Z",
     "shell.execute_reply.started": "2022-08-23T14:39:11.893243Z",
     "shell.execute_reply": "2022-08-23T14:39:11.901940Z"
    },
    "trusted": true
   },
   "execution_count": null,
   "outputs": []
  },
  {
   "cell_type": "code",
   "source": [
    "len(X)"
   ],
   "metadata": {
    "execution": {
     "iopub.status.busy": "2022-08-19T17:08:00.680883Z",
     "iopub.execute_input": "2022-08-19T17:08:00.681556Z",
     "iopub.status.idle": "2022-08-19T17:08:00.687931Z",
     "shell.execute_reply.started": "2022-08-19T17:08:00.681520Z",
     "shell.execute_reply": "2022-08-19T17:08:00.686851Z"
    },
    "trusted": true
   },
   "execution_count": null,
   "outputs": []
  },
  {
   "cell_type": "code",
   "source": [
    "from sklearn.preprocessing import MultiLabelBinarizer\n",
    "\n",
    "\n",
    "X = np.squeeze(np.asarray([i.numpy() for i in X]))\n",
    "\n",
    "y = df['T_gold_multi_label']\n",
    "\n",
    "mlb = MultiLabelBinarizer()\n",
    "yt = mlb.fit_transform(y)"
   ],
   "metadata": {
    "execution": {
     "iopub.status.busy": "2022-08-27T13:17:23.520472Z",
     "iopub.execute_input": "2022-08-27T13:17:23.521030Z",
     "iopub.status.idle": "2022-08-27T13:17:23.616326Z",
     "shell.execute_reply.started": "2022-08-27T13:17:23.520990Z",
     "shell.execute_reply": "2022-08-27T13:17:23.615448Z"
    },
    "trusted": true
   },
   "execution_count": null,
   "outputs": []
  },
  {
   "cell_type": "code",
   "source": [
    "len(y_train_silv), len(yt_test)"
   ],
   "metadata": {
    "execution": {
     "iopub.status.busy": "2022-08-19T14:06:56.458939Z",
     "iopub.execute_input": "2022-08-19T14:06:56.459540Z",
     "iopub.status.idle": "2022-08-19T14:06:56.466502Z",
     "shell.execute_reply.started": "2022-08-19T14:06:56.459505Z",
     "shell.execute_reply": "2022-08-19T14:06:56.465455Z"
    },
    "trusted": true
   },
   "execution_count": null,
   "outputs": []
  },
  {
   "cell_type": "code",
   "source": [
    "len(X), len(yt)"
   ],
   "metadata": {
    "execution": {
     "iopub.status.busy": "2022-08-27T13:17:32.929603Z",
     "iopub.execute_input": "2022-08-27T13:17:32.930194Z",
     "iopub.status.idle": "2022-08-27T13:17:32.943134Z",
     "shell.execute_reply.started": "2022-08-27T13:17:32.930149Z",
     "shell.execute_reply": "2022-08-27T13:17:32.942018Z"
    },
    "trusted": true
   },
   "execution_count": null,
   "outputs": []
  },
  {
   "cell_type": "code",
   "source": [
    "from sklearn.model_selection import train_test_split\n",
    "X_train, X_test, y_train, y_test = train_test_split(X, yt, test_size=0.15,shuffle=True, random_state=42)"
   ],
   "metadata": {
    "execution": {
     "iopub.status.busy": "2022-08-27T13:17:36.467616Z",
     "iopub.execute_input": "2022-08-27T13:17:36.468187Z",
     "iopub.status.idle": "2022-08-27T13:17:36.477833Z",
     "shell.execute_reply.started": "2022-08-27T13:17:36.468151Z",
     "shell.execute_reply": "2022-08-27T13:17:36.476891Z"
    },
    "trusted": true
   },
   "execution_count": null,
   "outputs": []
  },
  {
   "cell_type": "code",
   "source": [
    "from keras import backend as K\n",
    "from keras.layers import Dropout\n",
    "from keras.models import Model\n",
    "from keras.callbacks import EarlyStopping\n",
    "from tensorflow.keras.optimizers import Adam, schedules, SGD\n",
    "from tensorflow.keras.optimizers.schedules import ExponentialDecay\n",
    "from keras.models import Sequential\n",
    "from keras.layers import Dense, Input, LSTM\n",
    "from keras.utils.vis_utils import plot_model\n",
    "import tensorflow as tf \n",
    "\n",
    "tf.config.run_functions_eagerly(True)\n",
    "\n",
    "#keras custom f1_score metric\n",
    "def f1(y_true, y_pred):\n",
    "    def recall(y_true, y_pred):\n",
    "        \"\"\"Recall metric.\"\"\"\n",
    "\n",
    "        true_positives = K.sum(K.round(K.clip(y_true * y_pred, 0, 1)))\n",
    "        possible_positives = K.sum(K.round(K.clip(y_true, 0, 1)))\n",
    "        recall = true_positives / (possible_positives + K.epsilon())\n",
    "        return recall\n",
    "\n",
    "    def precision(y_true, y_pred):\n",
    "        \"\"\"Precision metric.\"\"\"\n",
    "\n",
    "        true_positives = K.sum(K.round(K.clip(y_true * y_pred, 0, 1)))\n",
    "        predicted_positives = K.sum(K.round(K.clip(y_pred, 0, 1)))\n",
    "        precision = true_positives / (predicted_positives + K.epsilon())\n",
    "        return precision\n",
    "        \n",
    "    precision = precision(y_true, y_pred)\n",
    "    recall = recall(y_true, y_pred)\n",
    "    return 2*((precision*recall)/(precision+recall+K.epsilon()))\n",
    "\n",
    "model_1 = Sequential(name=\"ANN-1\")\n",
    "model_1.add(Input(shape=(512,), name='input'))  # is 512 when using only visual or textual embeddings\n",
    "                                 # & 1024 when using multimodal embeddings\n",
    "model_1.add(Dense(400, activation='relu', name=\"feedforward_1\"))\n",
    "model_1.add(Dropout(0.4, name='dropout_0.4'))\n",
    "\n",
    "model_1.add(Dense(200, activation='relu', name=\"feedforward_2\"))\n",
    "model_1.add(Dropout(0.2, name=\"dropout_0.2\"))\n",
    "model_1.add(Dense(10, activation='sigmoid', name=\"output\"))\n",
    "model_1.output_shape\n",
    "\n",
    "#opt = tf.keras.optimizers.SGD(learning_rate=0.002, nesterov=True)\n",
    "model_1.compile(loss='binary_crossentropy',\n",
    "              optimizer=\"adam\",\n",
    "              metrics=[f1, \"accuracy\"],)"
   ],
   "metadata": {
    "execution": {
     "iopub.status.busy": "2022-08-27T13:17:40.544545Z",
     "iopub.execute_input": "2022-08-27T13:17:40.545299Z",
     "iopub.status.idle": "2022-08-27T13:17:41.570655Z",
     "shell.execute_reply.started": "2022-08-27T13:17:40.545258Z",
     "shell.execute_reply": "2022-08-27T13:17:41.569548Z"
    },
    "trusted": true
   },
   "execution_count": null,
   "outputs": []
  },
  {
   "cell_type": "code",
   "source": [
    "for l in model_1.layers:   \n",
    "    l.trainable = False"
   ],
   "metadata": {
    "execution": {
     "iopub.status.busy": "2022-08-23T14:34:36.163258Z",
     "iopub.execute_input": "2022-08-23T14:34:36.164209Z",
     "iopub.status.idle": "2022-08-23T14:34:36.170043Z",
     "shell.execute_reply.started": "2022-08-23T14:34:36.164161Z",
     "shell.execute_reply": "2022-08-23T14:34:36.168888Z"
    },
    "trusted": true
   },
   "execution_count": null,
   "outputs": []
  },
  {
   "cell_type": "code",
   "source": [
    "model_1.add(Dense(10, activation='sigmoid', name=\"output2\"))"
   ],
   "metadata": {
    "execution": {
     "iopub.status.busy": "2022-08-23T14:39:40.996467Z",
     "iopub.execute_input": "2022-08-23T14:39:40.996831Z",
     "iopub.status.idle": "2022-08-23T14:39:41.012224Z",
     "shell.execute_reply.started": "2022-08-23T14:39:40.996802Z",
     "shell.execute_reply": "2022-08-23T14:39:41.011186Z"
    },
    "trusted": true
   },
   "execution_count": null,
   "outputs": []
  },
  {
   "cell_type": "code",
   "source": [
    "[l.trainable for l in model_1.layers]"
   ],
   "metadata": {
    "execution": {
     "iopub.status.busy": "2022-08-20T14:41:23.582407Z",
     "iopub.execute_input": "2022-08-20T14:41:23.583004Z",
     "iopub.status.idle": "2022-08-20T14:41:23.590380Z",
     "shell.execute_reply.started": "2022-08-20T14:41:23.582968Z",
     "shell.execute_reply": "2022-08-20T14:41:23.589288Z"
    },
    "trusted": true
   },
   "execution_count": null,
   "outputs": []
  },
  {
   "cell_type": "code",
   "source": [
    "model_1.layers"
   ],
   "metadata": {
    "execution": {
     "iopub.status.busy": "2022-08-19T16:16:46.268011Z",
     "iopub.execute_input": "2022-08-19T16:16:46.268713Z",
     "iopub.status.idle": "2022-08-19T16:16:46.276550Z",
     "shell.execute_reply.started": "2022-08-19T16:16:46.268662Z",
     "shell.execute_reply": "2022-08-19T16:16:46.275537Z"
    },
    "trusted": true
   },
   "execution_count": null,
   "outputs": []
  },
  {
   "cell_type": "code",
   "source": [
    "from keras import backend as K\n",
    "from keras.layers import Dropout\n",
    "from keras.models import Model\n",
    "from keras.callbacks import EarlyStopping\n",
    "from tensorflow.keras.optimizers import Adam, schedules, SGD\n",
    "from tensorflow.keras.optimizers.schedules import ExponentialDecay\n",
    "from keras.models import Sequential\n",
    "from keras.layers import Dense, Input, LSTM\n",
    "from keras.utils.vis_utils import plot_model\n",
    "import tensorflow as tf \n",
    "\n",
    "tf.config.run_functions_eagerly(True)\n",
    "\n",
    "#keras custom f1_score metric\n",
    "def f1(y_true, y_pred):\n",
    "    def recall(y_true, y_pred):\n",
    "        \"\"\"Recall metric.\"\"\"\n",
    "\n",
    "        true_positives = K.sum(K.round(K.clip(y_true * y_pred, 0, 1)))\n",
    "        possible_positives = K.sum(K.round(K.clip(y_true, 0, 1)))\n",
    "        recall = true_positives / (possible_positives + K.epsilon())\n",
    "        return recall\n",
    "\n",
    "    def precision(y_true, y_pred):\n",
    "        \"\"\"Precision metric.\"\"\"\n",
    "\n",
    "        true_positives = K.sum(K.round(K.clip(y_true * y_pred, 0, 1)))\n",
    "        predicted_positives = K.sum(K.round(K.clip(y_pred, 0, 1)))\n",
    "        precision = true_positives / (predicted_positives + K.epsilon())\n",
    "        return precision\n",
    "        \n",
    "    precision = precision(y_true, y_pred)\n",
    "    recall = recall(y_true, y_pred)\n",
    "    return 2*((precision*recall)/(precision+recall+K.epsilon()))\n",
    "\n",
    "from sklearn.model_selection import train_test_split\n",
    "X_train, X_test, y_train, y_test = train_test_split(X, yt, test_size=0.15,\n",
    "                                                   shuffle=True, random_state=42)\n",
    "\n",
    "del model_1\n",
    "model_1 = Sequential(name=\"ANN-1\")\n",
    "model_1.add(Input(shape=(1024,), name='input'))  # is 512 when using only visual or textual embeddings\n",
    "                                 # & 1024 when using multimodal embeddings\n",
    "model_1.add(Dense(400, activation='relu', name=\"feedforward_1\"))\n",
    "model_1.add(Dropout(0.4, name='dropout_0.4'))\n",
    "\n",
    "model_1.add(Dense(200, activation='relu', name=\"feedforward_2\"))\n",
    "model_1.add(Dropout(0.2, name=\"dropout_0.2\"))\n",
    "model_1.add(Dense(8, activation='sigmoid', name=\"output\"))\n",
    "model_1.output_shape\n",
    "\n",
    "#opt = tf.keras.optimizers.SGD(learning_rate=0.002, nesterov=True)\n",
    "model_1.compile(loss='binary_crossentropy',\n",
    "              optimizer=\"adam\",\n",
    "              metrics=[f1, \"accuracy\"],)"
   ],
   "metadata": {
    "execution": {
     "iopub.status.busy": "2022-08-19T13:23:57.611384Z",
     "iopub.execute_input": "2022-08-19T13:23:57.611813Z",
     "iopub.status.idle": "2022-08-19T13:23:57.663439Z",
     "shell.execute_reply.started": "2022-08-19T13:23:57.611779Z",
     "shell.execute_reply": "2022-08-19T13:23:57.662260Z"
    },
    "jupyter": {
     "source_hidden": true
    },
    "trusted": true
   },
   "execution_count": null,
   "outputs": []
  },
  {
   "cell_type": "code",
   "source": [
    "from sklearn.model_selection import train_test_split\n",
    "X_train, X_test, y_train, y_test = train_test_split(X, yt, test_size=0.15,shuffle=True, random_state=42)\n",
    "\n",
    "model_2 = Sequential(name=\"ANN-1\")\n",
    "model_2.add(Input(shape=(1024,), name='input'))  # is 512 when using only visual or textual embeddings\n",
    "                                 # & 1024 when using multimodal embeddings\n",
    "\n",
    "\n",
    "model_2.add(Dense(20, activation='relu', name=\"feedforward_2\"))\n",
    "model_2.add(Dropout(0.2, name=\"dropout_0.2\"))\n",
    "model_2.add(Dense(10, activation='sigmoid', name=\"output\"))\n",
    "model_2.output_shape\n",
    "\n",
    "#opt = tf.keras.optimizers.SGD(learning_rate=0.002, nesterov=True)\n",
    "model_2.compile(loss='binary_crossentropy',\n",
    "              optimizer=\"adam\",\n",
    "              metrics=[f1, \"accuracy\"],)"
   ],
   "metadata": {
    "execution": {
     "iopub.status.busy": "2022-08-19T12:12:07.158446Z",
     "iopub.execute_input": "2022-08-19T12:12:07.159327Z",
     "iopub.status.idle": "2022-08-19T12:12:07.195587Z",
     "shell.execute_reply.started": "2022-08-19T12:12:07.159290Z",
     "shell.execute_reply": "2022-08-19T12:12:07.194703Z"
    },
    "jupyter": {
     "source_hidden": true
    },
    "trusted": true
   },
   "execution_count": null,
   "outputs": []
  },
  {
   "cell_type": "code",
   "source": [
    "es = EarlyStopping(monitor='val_loss', patience=20, verbose=1)\n",
    "BATCH = int(len(X_train)/10)\n",
    "\n",
    "print('Train...')\n",
    "model_1.fit(X_train, y_train,\n",
    "          batch_size=BATCH,\n",
    "          epochs=300,\n",
    "          validation_split=0.15,\n",
    "          shuffle=True,\n",
    "          callbacks=[es]\n",
    "          )"
   ],
   "metadata": {
    "execution": {
     "iopub.status.busy": "2022-08-27T13:17:57.899292Z",
     "iopub.execute_input": "2022-08-27T13:17:57.900046Z",
     "iopub.status.idle": "2022-08-27T13:18:04.517149Z",
     "shell.execute_reply.started": "2022-08-27T13:17:57.900003Z",
     "shell.execute_reply": "2022-08-27T13:18:04.516269Z"
    },
    "trusted": true
   },
   "execution_count": null,
   "outputs": []
  },
  {
   "cell_type": "code",
   "source": [
    "es = EarlyStopping(monitor='val_loss', patience=20, verbose=1)\n",
    "BATCH = int(len(X_train)/10)\n",
    "\n",
    "print('Train...')\n",
    "model_silver.fit(X_train, yt_silv,\n",
    "          batch_size=BATCH,\n",
    "          epochs=300,\n",
    "          validation_split=0.15,\n",
    "          shuffle=True,\n",
    "          callbacks=[es]\n",
    "          )"
   ],
   "metadata": {
    "execution": {
     "iopub.status.busy": "2022-08-19T14:10:05.855516Z",
     "iopub.execute_input": "2022-08-19T14:10:05.855910Z",
     "iopub.status.idle": "2022-08-19T14:10:12.180297Z",
     "shell.execute_reply.started": "2022-08-19T14:10:05.855878Z",
     "shell.execute_reply": "2022-08-19T14:10:12.179235Z"
    },
    "jupyter": {
     "source_hidden": true,
     "outputs_hidden": true
    },
    "collapsed": true,
    "trusted": true
   },
   "execution_count": null,
   "outputs": []
  },
  {
   "cell_type": "code",
   "source": [
    "predict= model_1.evaluate(x=X_test, y=y_test)\n",
    "\n",
    "print(\"Keras F1\")\n",
    "print(\"ANN-1:\")\n",
    "print(\"Loss:\"+str(predict[0]))\n",
    "print(\"F1:\"+str(predict[1]))\n",
    "print(\"Accuracy:\"+str(predict[2]))\n",
    "\n",
    "from sklearn.metrics import f1_score\n",
    "\n",
    "y_pred = model_1.predict([X_test], verbose=3)\n",
    "\n",
    "result_1 = f1_score(y_true=y_test.round(), y_pred=y_pred.round(), labels=None, average=\"weighted\")\n",
    "\n",
    "from sklearn.metrics import classification_report\n",
    "labels=mlb.classes_\n",
    "print(classification_report(y_true=y_test.round(), y_pred=y_pred.round(), target_names=labels))"
   ],
   "metadata": {
    "execution": {
     "iopub.status.busy": "2022-08-27T13:18:12.127812Z",
     "iopub.execute_input": "2022-08-27T13:18:12.128501Z",
     "iopub.status.idle": "2022-08-27T13:18:18.657441Z",
     "shell.execute_reply.started": "2022-08-27T13:18:12.128458Z",
     "shell.execute_reply": "2022-08-27T13:18:18.655491Z"
    },
    "trusted": true
   },
   "execution_count": null,
   "outputs": []
  },
  {
   "cell_type": "code",
   "source": [],
   "metadata": {},
   "execution_count": null,
   "outputs": []
  },
  {
   "cell_type": "code",
   "source": [
    "predict= model_silver.evaluate(x=X_test, y=yt_test)\n",
    "\n",
    "print(\"Keras F1\")\n",
    "print(\"ANN-1:\")\n",
    "print(\"Loss:\"+str(predict[0]))\n",
    "print(\"F1:\"+str(predict[1]))\n",
    "print(\"Accuracy:\"+str(predict[2]))\n",
    "\n",
    "from sklearn.metrics import f1_score\n",
    "\n",
    "y_pred = model_silver.predict([X_test], verbose=3)\n",
    "\n",
    "result_1 = f1_score(y_true=yt_test.round(), y_pred=y_pred.round(), labels=None, average=\"weighted\")\n",
    "result_1"
   ],
   "metadata": {
    "execution": {
     "iopub.status.busy": "2022-08-19T14:57:31.131576Z",
     "iopub.execute_input": "2022-08-19T14:57:31.131932Z",
     "iopub.status.idle": "2022-08-19T14:57:31.385894Z",
     "shell.execute_reply.started": "2022-08-19T14:57:31.131902Z",
     "shell.execute_reply": "2022-08-19T14:57:31.384795Z"
    },
    "trusted": true
   },
   "execution_count": null,
   "outputs": []
  },
  {
   "cell_type": "code",
   "source": [
    "from sklearn.metrics import f1_score\n",
    "\n",
    "y_pred = model_1.predict([X_test], verbose=3)\n",
    "\n",
    "result_1 = f1_score(y_true=y_test.round(), y_pred=y_pred.round(), labels=None, average=\"weighted\")\n",
    "result_1"
   ],
   "metadata": {
    "execution": {
     "iopub.status.busy": "2022-08-17T15:07:45.285883Z",
     "iopub.execute_input": "2022-08-17T15:07:45.286888Z",
     "iopub.status.idle": "2022-08-17T15:07:45.347036Z",
     "shell.execute_reply.started": "2022-08-17T15:07:45.286850Z",
     "shell.execute_reply": "2022-08-17T15:07:45.345979Z"
    },
    "trusted": true
   },
   "execution_count": null,
   "outputs": []
  },
  {
   "cell_type": "markdown",
   "source": [
    "### Save the embeddings"
   ],
   "metadata": {}
  },
  {
   "cell_type": "code",
   "source": [
    "import pickle\n",
    "\n",
    "with open('clip-ft-256-1-lr5-visual.pkl', 'wb') as b:\n",
    "    pickle.dump(X,b)"
   ],
   "metadata": {
    "execution": {
     "iopub.status.busy": "2022-08-05T14:22:33.176803Z",
     "iopub.execute_input": "2022-08-05T14:22:33.177170Z",
     "iopub.status.idle": "2022-08-05T14:22:34.249198Z",
     "shell.execute_reply.started": "2022-08-05T14:22:33.177138Z",
     "shell.execute_reply": "2022-08-05T14:22:34.248144Z"
    },
    "trusted": true
   },
   "execution_count": null,
   "outputs": []
  }
 ]
}

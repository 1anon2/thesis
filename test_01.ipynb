{
 "cells": [
  {
   "cell_type": "code",
   "outputs": [
    {
     "name": "stderr",
     "output_type": "stream",
     "text": [
      "C:\\Users\\flavi\\AppData\\Local\\Temp\\ipykernel_18532\\3074791949.py:3: DeprecationWarning: \n",
      "Pyarrow will become a required dependency of pandas in the next major release of pandas (pandas 3.0),\n",
      "(to allow more performant data types, such as the Arrow string type, and better interoperability with other libraries)\n",
      "but was not found to be installed on your system.\n",
      "If this would cause problems for you,\n",
      "please provide us feedback at https://github.com/pandas-dev/pandas/issues/54466\n",
      "        \n",
      "  import pandas as pd\n"
     ]
    }
   ],
   "source": [
    "import copy\n",
    "\n",
    "import pandas as pd"
   ],
   "metadata": {
    "collapsed": false,
    "ExecuteTime": {
     "end_time": "2024-02-07T22:44:33.610357700Z",
     "start_time": "2024-02-07T22:44:32.501283800Z"
    }
   },
   "id": "5a61e3af193aeee1",
   "execution_count": 1
  },
  {
   "cell_type": "code",
   "outputs": [],
   "source": [
    "df_og = pd.read_pickle(\"MulTweEmo/datasetPkl/merged_df_with_gold_freq1.pkl\")"
   ],
   "metadata": {
    "collapsed": false,
    "ExecuteTime": {
     "end_time": "2024-02-07T22:44:34.643529600Z",
     "start_time": "2024-02-07T22:44:33.612474700Z"
    }
   },
   "id": "3348b470e345dd1e",
   "execution_count": 2
  },
  {
   "cell_type": "code",
   "outputs": [],
   "source": [
    "def anonymize_and_fix_amps(tweet):\n",
    "    toks = str(tweet).split()\n",
    "    for idx,t in enumerate(toks):\n",
    "        if t[0] == '@':\n",
    "            toks[idx] = '@USER'\n",
    "        if t == '&amp;':\n",
    "            toks[idx] = '&'\n",
    "    return ' '.join(toks)\n",
    "\n",
    "df_og['tweet'] = df_og['tweet'].apply(anonymize_and_fix_amps)\n",
    "df_gold = df_og[df_og.T_Surprise.isnull() == False]\n",
    "df_gold = df_gold[df_gold.M_gold_multi_label.str.len() != 0]"
   ],
   "metadata": {
    "collapsed": false,
    "ExecuteTime": {
     "end_time": "2024-02-07T22:44:34.729730600Z",
     "start_time": "2024-02-07T22:44:34.648165500Z"
    }
   },
   "id": "17969024b3eec8d5",
   "execution_count": 3
  },
  {
   "cell_type": "code",
   "outputs": [],
   "source": [
    "def remove_neutral_smt(labels):\n",
    "    new_l=[]\n",
    "    for e in labels:\n",
    "        if e != \"Something else\" and e != \"Neutral\":\n",
    "            new_l.append(e)\n",
    "    return new_l"
   ],
   "metadata": {
    "collapsed": false,
    "ExecuteTime": {
     "end_time": "2024-02-07T22:44:34.756643200Z",
     "start_time": "2024-02-07T22:44:34.735096600Z"
    }
   },
   "id": "7384cac5e83fc064",
   "execution_count": 4
  },
  {
   "cell_type": "code",
   "outputs": [],
   "source": [
    "df_gold['M_gold_multi_label'] = df_gold['M_gold_multi_label'].apply(remove_neutral_smt)\n",
    "df_gold['T_gold_multi_label'] = df_gold['T_gold_multi_label'].apply(remove_neutral_smt)"
   ],
   "metadata": {
    "collapsed": false,
    "ExecuteTime": {
     "end_time": "2024-02-07T22:44:34.783989Z",
     "start_time": "2024-02-07T22:44:34.748069700Z"
    }
   },
   "id": "1baa4ec6fbf08652",
   "execution_count": 5
  },
  {
   "cell_type": "code",
   "outputs": [
    {
     "data": {
      "text/plain": "875"
     },
     "execution_count": 6,
     "metadata": {},
     "output_type": "execute_result"
    }
   ],
   "source": [
    "len(df_gold)"
   ],
   "metadata": {
    "collapsed": false,
    "ExecuteTime": {
     "end_time": "2024-02-07T22:44:34.832883100Z",
     "start_time": "2024-02-07T22:44:34.759946300Z"
    }
   },
   "id": "f72b8d96a5ba7364",
   "execution_count": 6
  },
  {
   "cell_type": "code",
   "outputs": [],
   "source": [
    "df = df_gold"
   ],
   "metadata": {
    "collapsed": false,
    "ExecuteTime": {
     "end_time": "2024-02-07T22:44:34.835016300Z",
     "start_time": "2024-02-07T22:44:34.775131500Z"
    }
   },
   "id": "eee48a7031050be4",
   "execution_count": 7
  },
  {
   "cell_type": "code",
   "outputs": [
    {
     "data": {
      "text/plain": "875"
     },
     "execution_count": 8,
     "metadata": {},
     "output_type": "execute_result"
    }
   ],
   "source": [
    "len(df)"
   ],
   "metadata": {
    "collapsed": false,
    "ExecuteTime": {
     "end_time": "2024-02-07T22:44:34.900602500Z",
     "start_time": "2024-02-07T22:44:34.780689900Z"
    }
   },
   "id": "f7852bc7c690acf",
   "execution_count": 8
  },
  {
   "cell_type": "code",
   "outputs": [],
   "source": [
    "def replace_string(row):\n",
    "    new_row = []\n",
    "    for item in row:\n",
    "        new_row.append(item.replace('../',''))\n",
    "    return new_row\n",
    "\n",
    "df['path_photos'] = df['path_photos'].apply(replace_string)"
   ],
   "metadata": {
    "collapsed": false,
    "ExecuteTime": {
     "end_time": "2024-02-07T22:44:34.902827200Z",
     "start_time": "2024-02-07T22:44:34.794539400Z"
    }
   },
   "id": "1405365cbd4f6db5",
   "execution_count": 9
  },
  {
   "cell_type": "code",
   "outputs": [],
   "source": [
    "columns = ['tweet','path_photos', 'M_gold_multi_label', 'T_gold_multi_label']\n",
    "df = df.loc[:, columns]"
   ],
   "metadata": {
    "collapsed": false,
    "ExecuteTime": {
     "end_time": "2024-02-07T22:44:34.904973400Z",
     "start_time": "2024-02-07T22:44:34.807957200Z"
    }
   },
   "id": "6cbe062e8175031a",
   "execution_count": 10
  },
  {
   "cell_type": "code",
   "outputs": [],
   "source": [
    "df = df.convert_dtypes()"
   ],
   "metadata": {
    "collapsed": false,
    "ExecuteTime": {
     "end_time": "2024-02-07T22:44:34.947937600Z",
     "start_time": "2024-02-07T22:44:34.820665800Z"
    }
   },
   "id": "4c3c0bcc9a2aee1",
   "execution_count": 11
  },
  {
   "cell_type": "code",
   "outputs": [],
   "source": [
    "df = df.explode(['path_photos']).reset_index(drop=True)"
   ],
   "metadata": {
    "collapsed": false,
    "ExecuteTime": {
     "end_time": "2024-02-07T22:44:34.974243Z",
     "start_time": "2024-02-07T22:44:34.829614800Z"
    }
   },
   "id": "b87244aa5e0be901",
   "execution_count": 12
  },
  {
   "cell_type": "code",
   "outputs": [],
   "source": [
    "df = df[:500]"
   ],
   "metadata": {
    "collapsed": false,
    "ExecuteTime": {
     "end_time": "2024-02-07T22:44:34.975333900Z",
     "start_time": "2024-02-07T22:44:34.851342400Z"
    }
   },
   "id": "d980e76890dfb015",
   "execution_count": 13
  },
  {
   "cell_type": "code",
   "outputs": [
    {
     "name": "stdout",
     "output_type": "stream",
     "text": [
      "WARNING:tensorflow:From C:\\Users\\flavi\\thesis\\venv\\Lib\\site-packages\\keras\\src\\losses.py:2976: The name tf.losses.sparse_softmax_cross_entropy is deprecated. Please use tf.compat.v1.losses.sparse_softmax_cross_entropy instead.\n",
      "0\n",
      "1\n",
      "2\n",
      "3\n",
      "4\n",
      "5\n",
      "6\n",
      "7\n",
      "8\n",
      "9\n",
      "10\n",
      "11\n",
      "12\n",
      "13\n",
      "14\n",
      "15\n",
      "16\n",
      "17\n",
      "18\n",
      "19\n",
      "20\n",
      "21\n",
      "22\n",
      "23\n",
      "24\n",
      "25\n",
      "26\n",
      "27\n",
      "28\n",
      "29\n",
      "30\n",
      "31\n",
      "32\n",
      "33\n",
      "34\n",
      "35\n",
      "36\n",
      "37\n",
      "38\n",
      "39\n",
      "40\n",
      "41\n",
      "42\n",
      "43\n",
      "44\n",
      "45\n",
      "46\n",
      "47\n",
      "48\n",
      "49\n",
      "50\n",
      "51\n",
      "52\n",
      "53\n",
      "54\n",
      "55\n",
      "56\n",
      "57\n",
      "58\n",
      "59\n",
      "60\n",
      "61\n",
      "62\n",
      "63\n",
      "64\n",
      "65\n",
      "66\n",
      "67\n",
      "68\n",
      "69\n",
      "70\n",
      "71\n",
      "72\n",
      "73\n",
      "74\n",
      "75\n",
      "76\n",
      "77\n",
      "78\n",
      "79\n",
      "80\n",
      "81\n",
      "82\n",
      "83\n",
      "84\n",
      "85\n",
      "86\n",
      "87\n",
      "88\n",
      "89\n",
      "90\n",
      "91\n",
      "92\n",
      "93\n",
      "94\n",
      "95\n",
      "96\n",
      "97\n",
      "98\n",
      "99\n",
      "100\n",
      "101\n",
      "102\n",
      "103\n",
      "104\n",
      "105\n",
      "106\n",
      "107\n",
      "108\n",
      "109\n",
      "110\n",
      "111\n",
      "112\n",
      "113\n",
      "114\n",
      "115\n",
      "116\n",
      "117\n",
      "118\n",
      "119\n",
      "120\n",
      "121\n",
      "122\n",
      "123\n",
      "124\n",
      "125\n",
      "126\n",
      "127\n",
      "128\n",
      "129\n",
      "130\n",
      "131\n",
      "132\n",
      "133\n",
      "134\n",
      "135\n",
      "136\n",
      "137\n",
      "138\n",
      "139\n",
      "140\n",
      "141\n",
      "142\n",
      "143\n",
      "144\n",
      "145\n",
      "146\n",
      "147\n",
      "148\n",
      "149\n",
      "150\n",
      "151\n",
      "152\n",
      "153\n",
      "154\n",
      "155\n",
      "156\n",
      "157\n",
      "158\n",
      "159\n",
      "160\n",
      "161\n",
      "162\n",
      "163\n",
      "164\n",
      "165\n",
      "166\n",
      "167\n",
      "168\n",
      "169\n",
      "170\n",
      "171\n",
      "172\n",
      "173\n",
      "174\n",
      "175\n",
      "176\n",
      "177\n",
      "178\n",
      "179\n",
      "180\n",
      "181\n",
      "182\n",
      "183\n",
      "184\n",
      "185\n",
      "186\n",
      "187\n",
      "188\n",
      "189\n",
      "190\n",
      "191\n",
      "192\n",
      "193\n",
      "194\n",
      "195\n",
      "196\n",
      "197\n",
      "198\n",
      "199\n",
      "200\n",
      "201\n",
      "202\n",
      "203\n",
      "204\n",
      "205\n",
      "206\n",
      "207\n",
      "208\n",
      "209\n",
      "210\n",
      "211\n",
      "212\n",
      "213\n",
      "214\n",
      "215\n",
      "216\n",
      "217\n",
      "218\n",
      "219\n",
      "220\n",
      "221\n",
      "222\n",
      "223\n",
      "224\n",
      "225\n",
      "226\n",
      "227\n",
      "228\n",
      "229\n",
      "230\n",
      "231\n",
      "232\n",
      "233\n",
      "234\n",
      "235\n",
      "236\n",
      "237\n",
      "238\n",
      "239\n",
      "240\n",
      "241\n",
      "242\n",
      "243\n",
      "244\n",
      "245\n",
      "246\n",
      "247\n",
      "248\n",
      "249\n",
      "250\n",
      "251\n",
      "252\n",
      "253\n",
      "254\n",
      "255\n",
      "256\n",
      "257\n",
      "258\n",
      "259\n",
      "260\n",
      "261\n",
      "262\n",
      "263\n",
      "264\n",
      "265\n",
      "266\n",
      "267\n",
      "268\n",
      "269\n",
      "270\n",
      "271\n",
      "272\n",
      "273\n",
      "274\n",
      "275\n",
      "276\n",
      "277\n",
      "278\n",
      "279\n",
      "280\n",
      "281\n",
      "282\n",
      "283\n",
      "284\n",
      "285\n",
      "286\n",
      "287\n",
      "288\n",
      "289\n",
      "290\n",
      "291\n",
      "292\n",
      "293\n",
      "294\n",
      "295\n",
      "296\n",
      "297\n",
      "298\n",
      "299\n",
      "300\n",
      "301\n",
      "302\n",
      "303\n",
      "304\n",
      "305\n",
      "306\n",
      "307\n",
      "308\n",
      "309\n",
      "310\n",
      "311\n",
      "312\n",
      "313\n",
      "314\n",
      "315\n",
      "316\n",
      "317\n",
      "318\n",
      "319\n",
      "320\n",
      "321\n",
      "322\n",
      "323\n",
      "324\n",
      "325\n",
      "326\n",
      "327\n",
      "328\n",
      "329\n",
      "330\n",
      "331\n",
      "332\n",
      "333\n",
      "334\n",
      "335\n",
      "336\n",
      "337\n",
      "338\n",
      "339\n",
      "340\n",
      "341\n",
      "342\n",
      "343\n",
      "344\n",
      "345\n",
      "346\n",
      "347\n",
      "348\n",
      "349\n",
      "350\n",
      "351\n",
      "352\n",
      "353\n",
      "354\n",
      "355\n",
      "356\n",
      "357\n",
      "358\n",
      "359\n",
      "360\n",
      "361\n",
      "362\n",
      "363\n",
      "364\n",
      "365\n",
      "366\n",
      "367\n",
      "368\n",
      "369\n",
      "370\n",
      "371\n",
      "372\n",
      "373\n",
      "374\n",
      "375\n",
      "376\n",
      "377\n",
      "378\n",
      "379\n",
      "380\n",
      "381\n",
      "382\n",
      "383\n",
      "384\n",
      "385\n",
      "386\n",
      "387\n",
      "388\n",
      "389\n",
      "390\n",
      "391\n",
      "392\n",
      "393\n",
      "394\n",
      "395\n",
      "396\n",
      "397\n",
      "398\n",
      "399\n",
      "400\n",
      "401\n",
      "402\n",
      "403\n",
      "404\n",
      "405\n",
      "406\n",
      "407\n",
      "408\n",
      "409\n",
      "410\n",
      "411\n",
      "412\n",
      "413\n",
      "414\n",
      "415\n",
      "416\n",
      "417\n",
      "418\n",
      "419\n",
      "420\n",
      "421\n",
      "422\n",
      "423\n",
      "424\n",
      "425\n",
      "426\n",
      "427\n",
      "428\n",
      "429\n",
      "430\n",
      "431\n",
      "432\n",
      "433\n",
      "434\n",
      "435\n",
      "436\n",
      "437\n",
      "438\n",
      "439\n",
      "440\n",
      "441\n",
      "442\n",
      "443\n",
      "444\n",
      "445\n",
      "446\n",
      "447\n",
      "448\n",
      "449\n",
      "450\n",
      "451\n",
      "452\n",
      "453\n",
      "454\n",
      "455\n",
      "456\n",
      "457\n",
      "458\n",
      "459\n",
      "460\n",
      "461\n",
      "462\n",
      "463\n",
      "464\n",
      "465\n",
      "466\n",
      "467\n",
      "468\n",
      "469\n",
      "470\n",
      "471\n",
      "472\n",
      "473\n",
      "474\n",
      "475\n",
      "476\n",
      "477\n",
      "478\n",
      "479\n",
      "480\n",
      "481\n",
      "482\n",
      "483\n",
      "484\n",
      "485\n",
      "486\n",
      "487\n",
      "488\n",
      "489\n",
      "490\n",
      "491\n",
      "492\n",
      "493\n",
      "494\n",
      "495\n",
      "496\n",
      "497\n",
      "498\n",
      "499\n"
     ]
    }
   ],
   "source": [
    "from PIL import Image\n",
    "import torch\n",
    "from transformers import CLIPProcessor, CLIPModel\n",
    "import tensorflow as tf\n",
    "\n",
    "model = CLIPModel.from_pretrained(\"openai/clip-vit-base-patch32\")\n",
    "processor = CLIPProcessor.from_pretrained(\"openai/clip-vit-base-patch32\")\n",
    "device = \"cuda:0\" if torch.cuda.is_available() else \"cpu\" \n",
    "\n",
    "def extract_and_concatenate(curr_txt, curr_img):\n",
    "    curr_img = Image.open(curr_img)\n",
    "    inputs = processor(text=curr_txt, \n",
    "                       images=curr_img, \n",
    "                       return_tensors='pt', \n",
    "                       padding='max_length', \n",
    "                       truncation=True)\n",
    "    inputs = inputs\n",
    "    outputs = model(**inputs)\n",
    "    image_features = outputs.image_embeds\n",
    "    text_features = outputs.text_embeds\n",
    "    \n",
    "    concat = torch.cat((image_features, text_features), dim=1)\n",
    "    #concat = tf.concat(values=[image_features, text_features], axis=1)\n",
    "    return concat\n",
    "\n",
    "images = df.path_photos.values\n",
    "texts = df.tweet.values\n",
    "\n",
    "X = []\n",
    "\n",
    "for idx, p in enumerate(images):\n",
    "    curr_img = images[idx]\n",
    "    curr_txt = texts[idx]\n",
    "    print(idx)\n",
    "    conc = extract_and_concatenate(curr_txt, curr_img)\n",
    "    X.append(conc)\n"
   ],
   "metadata": {
    "collapsed": false,
    "ExecuteTime": {
     "end_time": "2024-02-07T22:51:16.939502100Z",
     "start_time": "2024-02-07T22:44:34.861779600Z"
    }
   },
   "id": "c9d4cfcd6181efab",
   "execution_count": 14
  },
  {
   "cell_type": "code",
   "outputs": [],
   "source": [
    "import numpy as np\n",
    "\n",
    "from sklearn.preprocessing import MultiLabelBinarizer\n",
    "\n",
    "X = np.squeeze(np.asarray([i.detach().numpy() for i in X]))\n",
    "\n",
    "y = df['T_gold_multi_label']\n",
    "\n",
    "mlb = MultiLabelBinarizer()\n",
    "yt = mlb.fit_transform(y)"
   ],
   "metadata": {
    "collapsed": false,
    "ExecuteTime": {
     "end_time": "2024-02-07T22:52:08.385415900Z",
     "start_time": "2024-02-07T22:51:34.099010400Z"
    }
   },
   "id": "3ce9a1bca7fba7e6",
   "execution_count": 15
  },
  {
   "cell_type": "code",
   "outputs": [
    {
     "data": {
      "text/plain": "(500, 500)"
     },
     "execution_count": 16,
     "metadata": {},
     "output_type": "execute_result"
    }
   ],
   "source": [
    "len(X), len(yt)"
   ],
   "metadata": {
    "collapsed": false,
    "ExecuteTime": {
     "end_time": "2024-02-07T22:52:08.405910800Z",
     "start_time": "2024-02-07T22:52:08.394136300Z"
    }
   },
   "id": "805681621e315a18",
   "execution_count": 16
  },
  {
   "cell_type": "code",
   "outputs": [
    {
     "name": "stdout",
     "output_type": "stream",
     "text": [
      "WARNING:tensorflow:From C:\\Users\\flavi\\thesis\\venv\\Lib\\site-packages\\keras\\src\\backend.py:1398: The name tf.executing_eagerly_outside_functions is deprecated. Please use tf.compat.v1.executing_eagerly_outside_functions instead.\n",
      "WARNING:tensorflow:From C:\\Users\\flavi\\thesis\\venv\\Lib\\site-packages\\keras\\src\\optimizers\\__init__.py:309: The name tf.train.Optimizer is deprecated. Please use tf.compat.v1.train.Optimizer instead.\n"
     ]
    }
   ],
   "source": [
    "from keras import backend as K\n",
    "from keras.layers import Dropout\n",
    "from keras.models import Model\n",
    "from keras.callbacks import EarlyStopping\n",
    "from tensorflow.keras.optimizers import Adam, schedules, SGD\n",
    "from tensorflow.keras.optimizers.schedules import ExponentialDecay\n",
    "from keras.models import Sequential\n",
    "from keras.layers import Dense, Input, LSTM\n",
    "import tensorflow as tf \n",
    "\n",
    "tf.config.run_functions_eagerly(True)\n",
    "\n",
    "#keras custom f1_score metric\n",
    "def f1(y_true, y_pred):\n",
    "    def recall(y_true, y_pred):\n",
    "        \"\"\"Recall metric.\"\"\"\n",
    "\n",
    "        true_positives = K.sum(K.round(K.clip(y_true * y_pred, 0, 1)))\n",
    "        possible_positives = K.sum(K.round(K.clip(y_true, 0, 1)))\n",
    "        recall = true_positives / (possible_positives + K.epsilon())\n",
    "        return recall\n",
    "\n",
    "    def precision(y_true, y_pred):\n",
    "        \"\"\"Precision metric.\"\"\"\n",
    "\n",
    "        true_positives = K.sum(K.round(K.clip(y_true * y_pred, 0, 1)))\n",
    "        predicted_positives = K.sum(K.round(K.clip(y_pred, 0, 1)))\n",
    "        precision = true_positives / (predicted_positives + K.epsilon())\n",
    "        return precision\n",
    "        \n",
    "    precision = precision(y_true, y_pred)\n",
    "    recall = recall(y_true, y_pred)\n",
    "    return 2*((precision*recall)/(precision+recall+K.epsilon()))\n",
    "\n",
    "from sklearn.model_selection import train_test_split\n",
    "X_train, X_test, y_train, y_test = train_test_split(X, yt, test_size=0.15,\n",
    "                                                   shuffle=True, random_state=42)\n",
    "\n",
    "model_1 = Sequential(name=\"ANN-1\")\n",
    "model_1.add(Input(shape=(1024,), name='input'))  # is 512 when using only visual or textual embeddings\n",
    "                                 # & 1024 when using multimodal embeddings\n",
    "model_1.add(Dense(400, activation='relu', name=\"feedforward_1\"))\n",
    "model_1.add(Dropout(0.4, name='dropout_0.4'))\n",
    "\n",
    "model_1.add(Dense(200, activation='relu', name=\"feedforward_2\"))\n",
    "model_1.add(Dropout(0.2, name=\"dropout_0.2\"))\n",
    "model_1.add(Dense(8, activation='sigmoid', name=\"output\"))\n",
    "model_1.output_shape\n",
    "\n",
    "#opt = tf.keras.optimizers.SGD(learning_rate=0.002, nesterov=True)\n",
    "model_1.compile(loss='binary_crossentropy',\n",
    "              optimizer=\"adam\",\n",
    "              metrics=[f1, \"accuracy\"],)"
   ],
   "metadata": {
    "collapsed": false,
    "ExecuteTime": {
     "end_time": "2024-02-07T22:52:44.062835900Z",
     "start_time": "2024-02-07T22:52:42.350620800Z"
    }
   },
   "id": "7759835d757463be",
   "execution_count": 17
  },
  {
   "cell_type": "code",
   "outputs": [
    {
     "name": "stdout",
     "output_type": "stream",
     "text": [
      "Train...\n"
     ]
    },
    {
     "name": "stderr",
     "output_type": "stream",
     "text": [
      "C:\\Users\\flavi\\thesis\\venv\\Lib\\site-packages\\tensorflow\\python\\data\\ops\\structured_function.py:258: UserWarning: Even though the `tf.config.experimental_run_functions_eagerly` option is set, this option does not apply to tf.data functions. To force eager execution of tf.data functions, please use `tf.data.experimental.enable_debug_mode()`.\n",
      "  warnings.warn(\n"
     ]
    },
    {
     "name": "stdout",
     "output_type": "stream",
     "text": [
      "Epoch 1/300\n",
      "WARNING:tensorflow:From C:\\Users\\flavi\\thesis\\venv\\Lib\\site-packages\\keras\\src\\utils\\tf_utils.py:492: The name tf.ragged.RaggedTensorValue is deprecated. Please use tf.compat.v1.ragged.RaggedTensorValue instead.\n",
      "9/9 [==============================] - 1s 90ms/step - loss: 0.6639 - f1: 0.1088 - accuracy: 0.1967 - val_loss: 0.6344 - val_f1: 0.0000e+00 - val_accuracy: 0.1562\n",
      "Epoch 2/300\n",
      "9/9 [==============================] - 1s 74ms/step - loss: 0.5973 - f1: 0.1328 - accuracy: 0.2770 - val_loss: 0.6062 - val_f1: 0.2660 - val_accuracy: 0.1562\n",
      "Epoch 3/300\n",
      "9/9 [==============================] - 1s 77ms/step - loss: 0.5635 - f1: 0.2990 - accuracy: 0.2770 - val_loss: 0.5899 - val_f1: 0.3005 - val_accuracy: 0.1562\n",
      "Epoch 4/300\n",
      "9/9 [==============================] - 1s 76ms/step - loss: 0.5297 - f1: 0.3460 - accuracy: 0.2770 - val_loss: 0.5645 - val_f1: 0.3091 - val_accuracy: 0.1562\n",
      "Epoch 5/300\n",
      "9/9 [==============================] - 1s 74ms/step - loss: 0.4881 - f1: 0.3925 - accuracy: 0.3047 - val_loss: 0.5381 - val_f1: 0.3896 - val_accuracy: 0.2031\n",
      "Epoch 6/300\n",
      "9/9 [==============================] - 1s 78ms/step - loss: 0.4420 - f1: 0.5420 - accuracy: 0.4100 - val_loss: 0.5088 - val_f1: 0.4526 - val_accuracy: 0.2344\n",
      "Epoch 7/300\n",
      "9/9 [==============================] - 1s 75ms/step - loss: 0.3864 - f1: 0.6684 - accuracy: 0.4183 - val_loss: 0.4924 - val_f1: 0.5283 - val_accuracy: 0.2188\n",
      "Epoch 8/300\n",
      "9/9 [==============================] - 1s 72ms/step - loss: 0.3381 - f1: 0.7327 - accuracy: 0.4792 - val_loss: 0.4786 - val_f1: 0.6018 - val_accuracy: 0.2344\n",
      "Epoch 9/300\n",
      "9/9 [==============================] - 1s 74ms/step - loss: 0.2987 - f1: 0.7947 - accuracy: 0.4986 - val_loss: 0.4697 - val_f1: 0.6360 - val_accuracy: 0.2656\n",
      "Epoch 10/300\n",
      "9/9 [==============================] - 1s 71ms/step - loss: 0.2530 - f1: 0.8260 - accuracy: 0.5208 - val_loss: 0.4661 - val_f1: 0.6768 - val_accuracy: 0.2812\n",
      "Epoch 11/300\n",
      "9/9 [==============================] - 1s 71ms/step - loss: 0.2233 - f1: 0.8600 - accuracy: 0.5512 - val_loss: 0.4632 - val_f1: 0.6741 - val_accuracy: 0.2969\n",
      "Epoch 12/300\n",
      "9/9 [==============================] - 1s 75ms/step - loss: 0.1955 - f1: 0.8845 - accuracy: 0.5374 - val_loss: 0.4656 - val_f1: 0.6837 - val_accuracy: 0.2969\n",
      "Epoch 13/300\n",
      "9/9 [==============================] - 1s 73ms/step - loss: 0.1675 - f1: 0.9175 - accuracy: 0.5235 - val_loss: 0.4519 - val_f1: 0.6928 - val_accuracy: 0.2969\n",
      "Epoch 14/300\n",
      "9/9 [==============================] - 1s 73ms/step - loss: 0.1451 - f1: 0.9321 - accuracy: 0.5374 - val_loss: 0.4832 - val_f1: 0.6843 - val_accuracy: 0.2969\n",
      "Epoch 15/300\n",
      "9/9 [==============================] - 1s 73ms/step - loss: 0.1276 - f1: 0.9379 - accuracy: 0.5374 - val_loss: 0.4828 - val_f1: 0.6954 - val_accuracy: 0.2812\n",
      "Epoch 16/300\n",
      "9/9 [==============================] - 1s 74ms/step - loss: 0.1078 - f1: 0.9605 - accuracy: 0.5402 - val_loss: 0.4835 - val_f1: 0.6975 - val_accuracy: 0.3125\n",
      "Epoch 17/300\n",
      "9/9 [==============================] - 1s 72ms/step - loss: 0.0926 - f1: 0.9669 - accuracy: 0.5568 - val_loss: 0.5151 - val_f1: 0.6951 - val_accuracy: 0.2812\n",
      "Epoch 18/300\n",
      "9/9 [==============================] - 1s 75ms/step - loss: 0.0794 - f1: 0.9724 - accuracy: 0.5457 - val_loss: 0.5176 - val_f1: 0.7010 - val_accuracy: 0.3125\n",
      "Epoch 19/300\n",
      "9/9 [==============================] - 1s 77ms/step - loss: 0.0713 - f1: 0.9800 - accuracy: 0.5374 - val_loss: 0.5215 - val_f1: 0.7219 - val_accuracy: 0.2812\n",
      "Epoch 20/300\n",
      "9/9 [==============================] - 1s 75ms/step - loss: 0.0619 - f1: 0.9795 - accuracy: 0.5512 - val_loss: 0.5477 - val_f1: 0.7100 - val_accuracy: 0.2812\n",
      "Epoch 21/300\n",
      "9/9 [==============================] - 1s 76ms/step - loss: 0.0512 - f1: 0.9818 - accuracy: 0.4958 - val_loss: 0.5487 - val_f1: 0.7234 - val_accuracy: 0.2656\n",
      "Epoch 22/300\n",
      "9/9 [==============================] - 1s 74ms/step - loss: 0.0470 - f1: 0.9896 - accuracy: 0.4931 - val_loss: 0.5690 - val_f1: 0.7113 - val_accuracy: 0.2500\n",
      "Epoch 23/300\n",
      "9/9 [==============================] - 1s 71ms/step - loss: 0.0425 - f1: 0.9912 - accuracy: 0.4903 - val_loss: 0.5730 - val_f1: 0.7188 - val_accuracy: 0.2969\n",
      "Epoch 24/300\n",
      "9/9 [==============================] - 1s 73ms/step - loss: 0.0377 - f1: 0.9930 - accuracy: 0.5512 - val_loss: 0.5965 - val_f1: 0.7181 - val_accuracy: 0.2656\n",
      "Epoch 25/300\n",
      "9/9 [==============================] - 1s 70ms/step - loss: 0.0362 - f1: 0.9922 - accuracy: 0.5263 - val_loss: 0.5793 - val_f1: 0.7310 - val_accuracy: 0.2812\n",
      "Epoch 26/300\n",
      "9/9 [==============================] - 1s 70ms/step - loss: 0.0330 - f1: 0.9952 - accuracy: 0.5485 - val_loss: 0.6050 - val_f1: 0.7203 - val_accuracy: 0.2812\n",
      "Epoch 27/300\n",
      "9/9 [==============================] - 1s 78ms/step - loss: 0.0282 - f1: 0.9961 - accuracy: 0.5069 - val_loss: 0.6111 - val_f1: 0.7330 - val_accuracy: 0.2500\n",
      "Epoch 28/300\n",
      "9/9 [==============================] - 1s 70ms/step - loss: 0.0254 - f1: 0.9946 - accuracy: 0.5291 - val_loss: 0.6199 - val_f1: 0.7222 - val_accuracy: 0.2812\n",
      "Epoch 29/300\n",
      "9/9 [==============================] - 1s 72ms/step - loss: 0.0223 - f1: 0.9974 - accuracy: 0.5485 - val_loss: 0.6427 - val_f1: 0.7220 - val_accuracy: 0.2812\n",
      "Epoch 30/300\n",
      "9/9 [==============================] - 1s 71ms/step - loss: 0.0193 - f1: 0.9980 - accuracy: 0.5069 - val_loss: 0.6554 - val_f1: 0.7343 - val_accuracy: 0.2812\n",
      "Epoch 31/300\n",
      "9/9 [==============================] - 1s 68ms/step - loss: 0.0180 - f1: 0.9984 - accuracy: 0.5706 - val_loss: 0.6666 - val_f1: 0.7264 - val_accuracy: 0.2500\n",
      "Epoch 32/300\n",
      "9/9 [==============================] - 1s 71ms/step - loss: 0.0183 - f1: 0.9953 - accuracy: 0.5512 - val_loss: 0.6894 - val_f1: 0.7228 - val_accuracy: 0.2656\n",
      "Epoch 33/300\n",
      "9/9 [==============================] - 1s 70ms/step - loss: 0.0162 - f1: 0.9974 - accuracy: 0.5263 - val_loss: 0.6846 - val_f1: 0.7248 - val_accuracy: 0.2969\n",
      "Epoch 33: early stopping\n"
     ]
    },
    {
     "data": {
      "text/plain": "<keras.src.callbacks.History at 0x28c77183510>"
     },
     "execution_count": 18,
     "metadata": {},
     "output_type": "execute_result"
    }
   ],
   "source": [
    "es = EarlyStopping(monitor='val_loss', patience=20, verbose=1)\n",
    "BATCH = int(len(X_train)/10)\n",
    "\n",
    "print('Train...')\n",
    "model_1.fit(X_train, y_train,\n",
    "          batch_size=BATCH,\n",
    "          epochs=300,\n",
    "          validation_split=0.15,\n",
    "          shuffle=True,\n",
    "          callbacks=[es],\n",
    "          )"
   ],
   "metadata": {
    "collapsed": false,
    "ExecuteTime": {
     "end_time": "2024-02-07T22:53:09.424806100Z",
     "start_time": "2024-02-07T22:52:46.821047Z"
    }
   },
   "id": "3b8a1b178414e230",
   "execution_count": 18
  },
  {
   "cell_type": "code",
   "outputs": [
    {
     "name": "stdout",
     "output_type": "stream",
     "text": [
      "3/3 [==============================] - 0s 23ms/step - loss: 0.6431 - f1: 0.6679 - accuracy: 0.3733\n"
     ]
    },
    {
     "name": "stderr",
     "output_type": "stream",
     "text": [
      "C:\\Users\\flavi\\thesis\\venv\\Lib\\site-packages\\tensorflow\\python\\data\\ops\\structured_function.py:258: UserWarning: Even though the `tf.config.experimental_run_functions_eagerly` option is set, this option does not apply to tf.data functions. To force eager execution of tf.data functions, please use `tf.data.experimental.enable_debug_mode()`.\n",
      "  warnings.warn(\n"
     ]
    },
    {
     "name": "stdout",
     "output_type": "stream",
     "text": [
      "Keras F1\n",
      "ANN-1:\n",
      "Loss:0.6430535316467285\n",
      "F1:0.6678892970085144\n",
      "Accuracy:0.3733333349227905\n",
      "              precision    recall  f1-score   support\n",
      "\n",
      "       Anger       0.64      0.56      0.60        16\n",
      "Anticipation       0.64      0.53      0.58        30\n",
      "     Disgust       0.69      0.45      0.55        20\n",
      "        Fear       0.75      0.60      0.67        10\n",
      "         Joy       0.88      0.91      0.89        46\n",
      "     Sadness       0.57      0.36      0.44        22\n",
      "    Surprise       0.65      0.55      0.59        20\n",
      "       Trust       0.83      0.53      0.65        19\n",
      "\n",
      "   micro avg       0.74      0.61      0.66       183\n",
      "   macro avg       0.71      0.56      0.62       183\n",
      "weighted avg       0.72      0.61      0.65       183\n",
      " samples avg       0.71      0.63      0.64       183\n"
     ]
    },
    {
     "name": "stderr",
     "output_type": "stream",
     "text": [
      "C:\\Users\\flavi\\thesis\\venv\\Lib\\site-packages\\sklearn\\metrics\\_classification.py:1497: UndefinedMetricWarning: Precision is ill-defined and being set to 0.0 in samples with no predicted labels. Use `zero_division` parameter to control this behavior.\n",
      "  _warn_prf(average, modifier, f\"{metric.capitalize()} is\", len(result))\n"
     ]
    }
   ],
   "source": [
    "predict= model_1.evaluate(x=X_test, y=y_test)\n",
    "\n",
    "print(\"Keras F1\")\n",
    "print(\"ANN-1:\")\n",
    "print(\"Loss:\"+str(predict[0]))\n",
    "print(\"F1:\"+str(predict[1]))\n",
    "print(\"Accuracy:\"+str(predict[2]))\n",
    "\n",
    "from sklearn.metrics import f1_score\n",
    "\n",
    "y_pred = model_1.predict([X_test], verbose=3)\n",
    "\n",
    "result_1 = f1_score(y_true=y_test.round(), y_pred=y_pred.round(), labels=None, average=\"weighted\")\n",
    "\n",
    "from sklearn.metrics import classification_report\n",
    "labels=mlb.classes_\n",
    "print(classification_report(y_true=y_test.round(), y_pred=y_pred.round(), target_names=labels))"
   ],
   "metadata": {
    "collapsed": false,
    "ExecuteTime": {
     "end_time": "2024-02-07T22:53:43.771672500Z",
     "start_time": "2024-02-07T22:53:43.449907500Z"
    }
   },
   "id": "a7ed13e271556326",
   "execution_count": 19
  }
 ],
 "metadata": {
  "kernelspec": {
   "display_name": "Python 3",
   "language": "python",
   "name": "python3"
  },
  "language_info": {
   "codemirror_mode": {
    "name": "ipython",
    "version": 2
   },
   "file_extension": ".py",
   "mimetype": "text/x-python",
   "name": "python",
   "nbconvert_exporter": "python",
   "pygments_lexer": "ipython2",
   "version": "2.7.6"
  }
 },
 "nbformat": 4,
 "nbformat_minor": 5
}

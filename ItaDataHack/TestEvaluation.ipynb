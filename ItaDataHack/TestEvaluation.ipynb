{
 "cells": [
  {
   "cell_type": "code",
   "execution_count": 1,
   "metadata": {},
   "outputs": [],
   "source": [
    "from transformers import pipeline\n",
    "import pandas as pd\n",
    "from datasets import Dataset, load_metric\n",
    "from datasets import Dataset, load_metric\n",
    "from transformers import AutoTokenizer, DataCollatorWithPadding, TrainingArguments, AutoModelForSequenceClassification, Trainer\n",
    "import numpy as np\n",
    "import pandas as pd\n",
    "\n",
    "from huggingface_hub import notebook_login"
   ]
  },
  {
   "cell_type": "code",
   "execution_count": 3,
   "metadata": {},
   "outputs": [],
   "source": [
    "modello = pipeline(model=\"DayOne\")  #Carica il modello da huggingface\n",
    "test_pd = pd.read_csv(\"data/processed_dataset/test.csv\")"
   ]
  },
  {
   "cell_type": "markdown",
   "metadata": {},
   "source": [
    "Selezione prima 512 token del campo Processed_text"
   ]
  },
  {
   "cell_type": "code",
   "execution_count": 4,
   "metadata": {},
   "outputs": [],
   "source": [
    "from transformers import AutoTokenizer\n",
    "\n",
    "# Load the tokenizer\n",
    "checkpoint = 'nlpaueb/legal-bert-base-uncased'\n",
    "tokenizer = AutoTokenizer.from_pretrained(checkpoint)\n",
    "\n",
    "# Assuming 'test_pd' is your DataFrame with a 'Processed_text' column\n",
    "processed_text_column = test_pd['Processed_text']\n",
    "\n",
    "# Tokenize and remove [CLS] and [SEP] tokens for each element in the column\n",
    "tokenized_texts = [tokenizer(text, truncation=True, padding=True, max_length=512) for text in processed_text_column]\n",
    "\n",
    "# Remove [CLS] and [SEP] tokens from the end of each tokenized text\n",
    "for tokenized_text in tokenized_texts:\n",
    "    if tokenized_text['input_ids'][-1] == tokenizer.sep_token_id:\n",
    "        tokenized_text['input_ids'] = tokenized_text['input_ids'][:-1]\n",
    "    if tokenized_text['input_ids'][0] == tokenizer.cls_token_id:\n",
    "        tokenized_text['input_ids'] = tokenized_text['input_ids'][1:]\n",
    "\n",
    "# Convert tokenized texts back to normal texts\n",
    "decoded_texts = [tokenizer.decode(tokenized_text['input_ids']) for tokenized_text in tokenized_texts]\n",
    "\n",
    "# Replace the original 'Processed_text' column with the decoded texts\n",
    "test_pd['truncated_text'] = decoded_texts"
   ]
  },
  {
   "cell_type": "code",
   "execution_count": 5,
   "metadata": {},
   "outputs": [],
   "source": [
    "output = modello.predict(test_pd[\"truncated_text\"].tolist())"
   ]
  },
  {
   "cell_type": "markdown",
   "metadata": {},
   "source": [
    "Salva il risultato in un file .csv"
   ]
  },
  {
   "cell_type": "code",
   "execution_count": 6,
   "metadata": {},
   "outputs": [],
   "source": [
    "etichette = [int(dizionario['label'].split('_')[1]) for dizionario in output]\n",
    "\n",
    "# Crea un DataFrame con la colonna 'etichette'\n",
    "df = pd.DataFrame({'label': etichette})\n",
    "df['label'] = df['label']+1\n",
    "\n",
    "df.to_csv(\"data/result.csv\", index=False)"
   ]
  }
 ],
 "metadata": {
  "kernelspec": {
   "display_name": ".venv",
   "language": "python",
   "name": "python3"
  },
  "language_info": {
   "codemirror_mode": {
    "name": "ipython",
    "version": 3
   },
   "file_extension": ".py",
   "mimetype": "text/x-python",
   "name": "python",
   "nbconvert_exporter": "python",
   "pygments_lexer": "ipython3",
   "version": "3.9.16"
  },
  "orig_nbformat": 4
 },
 "nbformat": 4,
 "nbformat_minor": 2
}

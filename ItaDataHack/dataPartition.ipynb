{
 "cells": [
  {
   "cell_type": "code",
   "execution_count": 4,
   "metadata": {},
   "outputs": [],
   "source": [
    "import pandas as pd\n",
    "from datasets import Dataset, load_metric"
   ]
  },
  {
   "cell_type": "markdown",
   "metadata": {},
   "source": [
    "Rimozione duplicati e split in train e validation"
   ]
  },
  {
   "cell_type": "code",
   "execution_count": 5,
   "metadata": {},
   "outputs": [],
   "source": [
    "model_selection_pd = pd.read_csv(\"data/processed_dataset/train.csv\").reset_index()\n",
    "model_selection_pd['label'] = model_selection_pd['Directory code'] - 1 #Hugging face accetta valori da 0 a n-1\n",
    "model_selection_pd['index'] = range(len(model_selection_pd))\n",
    "\n",
    "noDuplicates_pd = model_selection_pd.drop_duplicates(subset=['CELEX_ID'])\n",
    "model_selection = Dataset.from_pandas(noDuplicates_pd)\n",
    "dict = model_selection.train_test_split(test_size=0.20, seed=10, shuffle=True)\n",
    "\n",
    "train_pd = dict[\"train\"].to_pandas()\n",
    "eval_pd = dict[\"test\"].to_pandas()"
   ]
  },
  {
   "cell_type": "code",
   "execution_count": 6,
   "metadata": {},
   "outputs": [],
   "source": [
    "from sklearn.utils import shuffle\n",
    "train_pd = shuffle(train_pd)\n",
    "eval_pd = shuffle(eval_pd)\n",
    "\n",
    "train_pd.to_csv(\"data/modelSelection/train_set.csv\", index=False)\n",
    "eval_pd.to_csv(\"data/modelSelection/eval_set.csv\", index=False)"
   ]
  }
 ],
 "metadata": {
  "kernelspec": {
   "display_name": ".venv",
   "language": "python",
   "name": "python3"
  },
  "language_info": {
   "codemirror_mode": {
    "name": "ipython",
    "version": 3
   },
   "file_extension": ".py",
   "mimetype": "text/x-python",
   "name": "python",
   "nbconvert_exporter": "python",
   "pygments_lexer": "ipython3",
   "version": "3.9.16"
  },
  "orig_nbformat": 4
 },
 "nbformat": 4,
 "nbformat_minor": 2
}
